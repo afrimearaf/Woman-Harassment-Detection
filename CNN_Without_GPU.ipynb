{
 "cells": [
  {
   "cell_type": "code",
   "execution_count": 1,
   "metadata": {},
   "outputs": [
    {
     "name": "stdout",
     "output_type": "stream",
     "text": [
      "Wed Apr 12 18:36:39 2023       \n",
      "+-----------------------------------------------------------------------------+\n",
      "| NVIDIA-SMI 528.24       Driver Version: 528.24       CUDA Version: 12.0     |\n",
      "|-------------------------------+----------------------+----------------------+\n",
      "| GPU  Name            TCC/WDDM | Bus-Id        Disp.A | Volatile Uncorr. ECC |\n",
      "| Fan  Temp  Perf  Pwr:Usage/Cap|         Memory-Usage | GPU-Util  Compute M. |\n",
      "|                               |                      |               MIG M. |\n",
      "|===============================+======================+======================|\n",
      "|   0  NVIDIA GeForce ... WDDM  | 00000000:01:00.0  On |                  N/A |\n",
      "|  0%   56C    P8    14W / 200W |   7932MiB /  8192MiB |      5%      Default |\n",
      "|                               |                      |                  N/A |\n",
      "+-------------------------------+----------------------+----------------------+\n",
      "                                                                               \n",
      "+-----------------------------------------------------------------------------+\n",
      "| Processes:                                                                  |\n",
      "|  GPU   GI   CI        PID   Type   Process name                  GPU Memory |\n",
      "|        ID   ID                                                   Usage      |\n",
      "|=============================================================================|\n",
      "|    0   N/A  N/A      2200    C+G   ...y\\ShellExperienceHost.exe    N/A      |\n",
      "|    0   N/A  N/A      7776    C+G   ...icrosoft.Media.Player.exe    N/A      |\n",
      "|    0   N/A  N/A      8204    C+G   C:\\Windows\\explorer.exe         N/A      |\n",
      "|    0   N/A  N/A      8448    C+G   ...wekyb3d8bbwe\\Video.UI.exe    N/A      |\n",
      "|    0   N/A  N/A      8532    C+G   ...5n1h2txyewy\\SearchApp.exe    N/A      |\n",
      "|    0   N/A  N/A      9416      C   ...tensorflow_gpu\\python.exe    N/A      |\n",
      "|    0   N/A  N/A     10404    C+G   ...ge\\Application\\msedge.exe    N/A      |\n",
      "|    0   N/A  N/A     10696    C+G   ...bbwe\\Microsoft.Photos.exe    N/A      |\n",
      "|    0   N/A  N/A     10828    C+G   ...lPanel\\SystemSettings.exe    N/A      |\n",
      "|    0   N/A  N/A     10916    C+G   ...cw5n1h2txyewy\\LockApp.exe    N/A      |\n",
      "|    0   N/A  N/A     11684    C+G   ...09mmv6hy\\Build\\Lively.exe    N/A      |\n",
      "|    0   N/A  N/A     12084    C+G   ...\\PowerToys.FancyZones.exe    N/A      |\n",
      "|    0   N/A  N/A     12112    C+G   ...werToys.ColorPickerUI.exe    N/A      |\n",
      "|    0   N/A  N/A     12436    C+G   ...werToys.PowerLauncher.exe    N/A      |\n",
      "|    0   N/A  N/A     13044    C+G   ...perience\\NVIDIA Share.exe    N/A      |\n",
      "|    0   N/A  N/A     13208    C+G   ...perience\\NVIDIA Share.exe    N/A      |\n",
      "|    0   N/A  N/A     13224    C+G   ...ekyb3d8bbwe\\HxOutlook.exe    N/A      |\n",
      "|    0   N/A  N/A     13412    C+G   ...ray\\lghub_system_tray.exe    N/A      |\n",
      "|    0   N/A  N/A     13484    C+G   ...2txyewy\\TextInputHost.exe    N/A      |\n",
      "|    0   N/A  N/A     14032      C   ...tensorflow_gpu\\python.exe    N/A      |\n",
      "|    0   N/A  N/A     14096    C+G   ...ram Files\\LGHUB\\lghub.exe    N/A      |\n",
      "|    0   N/A  N/A     14164    C+G   ... iCUE 4 Software\\iCUE.exe    N/A      |\n",
      "|    0   N/A  N/A     15504    C+G   ...in7x64\\steamwebhelper.exe    N/A      |\n",
      "|    0   N/A  N/A     15716    C+G   ...me\\Application\\chrome.exe    N/A      |\n",
      "|    0   N/A  N/A     16860    C+G   ...aming\\Spotify\\Spotify.exe    N/A      |\n",
      "|    0   N/A  N/A     17564    C+G   ...\\app-1.0.9012\\Discord.exe    N/A      |\n",
      "|    0   N/A  N/A     18060    C+G   ...un Webcam\\IriunWebcam.exe    N/A      |\n",
      "|    0   N/A  N/A     18932    C+G   ...h8wxbdkxb8p\\DCv2\\DCv2.exe    N/A      |\n",
      "|    0   N/A  N/A     21032    C+G   ...3d8bbwe\\CalculatorApp.exe    N/A      |\n",
      "|    0   N/A  N/A     23256      C   ...tensorflow_gpu\\python.exe    N/A      |\n",
      "|    0   N/A  N/A     25812      C   ...tensorflow_gpu\\python.exe    N/A      |\n",
      "+-----------------------------------------------------------------------------+\n"
     ]
    }
   ],
   "source": [
    "!nvidia-smi"
   ]
  },
  {
   "cell_type": "code",
   "execution_count": 2,
   "metadata": {},
   "outputs": [
    {
     "name": "stdout",
     "output_type": "stream",
     "text": [
      "WARNING:tensorflow:From C:\\Users\\Afrime Araf\\AppData\\Local\\Temp\\ipykernel_3460\\768858168.py:3: is_gpu_available (from tensorflow.python.framework.test_util) is deprecated and will be removed in a future version.\n",
      "Instructions for updating:\n",
      "Use `tf.config.list_physical_devices('GPU')` instead.\n"
     ]
    },
    {
     "data": {
      "text/plain": [
       "False"
      ]
     },
     "execution_count": 2,
     "metadata": {},
     "output_type": "execute_result"
    }
   ],
   "source": [
    "import tensorflow as tf\n",
    "\n",
    "tf.test.is_gpu_available()"
   ]
  },
  {
   "cell_type": "code",
   "execution_count": 3,
   "metadata": {},
   "outputs": [],
   "source": [
    "gpus = tf.config.experimental.list_physical_devices('GPU')\n",
    "for gpu in gpus:\n",
    "    print(\"Name:\", gpu.name, \"  Type:\", gpu.device_type)"
   ]
  },
  {
   "cell_type": "code",
   "execution_count": 4,
   "metadata": {
    "executionInfo": {
     "elapsed": 699,
     "status": "ok",
     "timestamp": 1654014762082,
     "user": {
      "displayName": "kazi afrime",
      "userId": "17483685230346107889"
     },
     "user_tz": -360
    },
    "id": "tc-DbIMdEfzm"
   },
   "outputs": [],
   "source": [
    "import numpy as np\n",
    "import pandas as pd\n",
    "import matplotlib.pyplot as plt\n",
    "%matplotlib inline\n",
    "import seaborn as sns\n",
    "import re,nltk"
   ]
  },
  {
   "cell_type": "code",
   "execution_count": 5,
   "metadata": {
    "colab": {
     "base_uri": "https://localhost:8080/",
     "height": 206
    },
    "executionInfo": {
     "elapsed": 1949,
     "status": "ok",
     "timestamp": 1654014764029,
     "user": {
      "displayName": "kazi afrime",
      "userId": "17483685230346107889"
     },
     "user_tz": -360
    },
    "id": "_aSpRbQJErJB",
    "outputId": "508d62ad-4566-4334-8d40-09e84820af93"
   },
   "outputs": [
    {
     "data": {
      "text/html": [
       "<div>\n",
       "<style scoped>\n",
       "    .dataframe tbody tr th:only-of-type {\n",
       "        vertical-align: middle;\n",
       "    }\n",
       "\n",
       "    .dataframe tbody tr th {\n",
       "        vertical-align: top;\n",
       "    }\n",
       "\n",
       "    .dataframe thead th {\n",
       "        text-align: right;\n",
       "    }\n",
       "</style>\n",
       "<table border=\"1\" class=\"dataframe\">\n",
       "  <thead>\n",
       "    <tr style=\"text-align: right;\">\n",
       "      <th></th>\n",
       "      <th>Unnamed: 0</th>\n",
       "      <th>Text</th>\n",
       "      <th>Label</th>\n",
       "      <th>Cleaned</th>\n",
       "    </tr>\n",
       "  </thead>\n",
       "  <tbody>\n",
       "    <tr>\n",
       "      <th>0</th>\n",
       "      <td>0</td>\n",
       "      <td>হেলো ম্যাডাম! আমাদের কনো ধরনের ভ্যাকসিনের প্রয়...</td>\n",
       "      <td>Negative</td>\n",
       "      <td>হেলো ম্যাডাম আমাদের কনো ধরনের ভ্যাকসিনের প্রয়ো...</td>\n",
       "    </tr>\n",
       "    <tr>\n",
       "      <th>1</th>\n",
       "      <td>1</td>\n",
       "      <td>হো*গার ভিত্রে টাইগার বোম মলম লাগাইলে এমনে ভাবে...</td>\n",
       "      <td>Negative</td>\n",
       "      <td>হো গার ভিত্রে টাইগার বোম মলম লাগাইলে এমনে ভাবে...</td>\n",
       "    </tr>\n",
       "    <tr>\n",
       "      <th>2</th>\n",
       "      <td>2</td>\n",
       "      <td>হো**গায় অতিরিক্ত কারেন্ট থাকলে যা হয় আরকি</td>\n",
       "      <td>Negative</td>\n",
       "      <td>হো গায় অতিরিক্ত কারেন্ট থাকলে যা হয় আরকি</td>\n",
       "    </tr>\n",
       "    <tr>\n",
       "      <th>3</th>\n",
       "      <td>3</td>\n",
       "      <td>হেডার কারেন্ট কমে নাই</td>\n",
       "      <td>Negative</td>\n",
       "      <td>হেডার কারেন্ট কমে নাই</td>\n",
       "    </tr>\n",
       "    <tr>\n",
       "      <th>4</th>\n",
       "      <td>4</td>\n",
       "      <td>হেডার মহিলা</td>\n",
       "      <td>Negative</td>\n",
       "      <td>হেডার মহিলা</td>\n",
       "    </tr>\n",
       "  </tbody>\n",
       "</table>\n",
       "</div>"
      ],
      "text/plain": [
       "   Unnamed: 0                                               Text     Label  \\\n",
       "0           0  হেলো ম্যাডাম! আমাদের কনো ধরনের ভ্যাকসিনের প্রয়...  Negative   \n",
       "1           1  হো*গার ভিত্রে টাইগার বোম মলম লাগাইলে এমনে ভাবে...  Negative   \n",
       "2           2         হো**গায় অতিরিক্ত কারেন্ট থাকলে যা হয় আরকি   Negative   \n",
       "3           3                              হেডার কারেন্ট কমে নাই  Negative   \n",
       "4           4                                       হেডার মহিলা   Negative   \n",
       "\n",
       "                                             Cleaned  \n",
       "0  হেলো ম্যাডাম আমাদের কনো ধরনের ভ্যাকসিনের প্রয়ো...  \n",
       "1  হো গার ভিত্রে টাইগার বোম মলম লাগাইলে এমনে ভাবে...  \n",
       "2          হো গায় অতিরিক্ত কারেন্ট থাকলে যা হয় আরকি   \n",
       "3                              হেডার কারেন্ট কমে নাই  \n",
       "4                                       হেডার মহিলা   "
      ]
     },
     "execution_count": 5,
     "metadata": {},
     "output_type": "execute_result"
    }
   ],
   "source": [
    "data = pd.read_excel('clean_data.xlsx')\n",
    "data.head()"
   ]
  },
  {
   "cell_type": "code",
   "execution_count": 6,
   "metadata": {
    "colab": {
     "base_uri": "https://localhost:8080/"
    },
    "executionInfo": {
     "elapsed": 13,
     "status": "ok",
     "timestamp": 1654014764030,
     "user": {
      "displayName": "kazi afrime",
      "userId": "17483685230346107889"
     },
     "user_tz": -360
    },
    "id": "SEhUEeGVEs7-",
    "outputId": "3bc4a0eb-fccb-4c2f-d166-619d052195ad"
   },
   "outputs": [
    {
     "name": "stdout",
     "output_type": "stream",
     "text": [
      "<class 'pandas.core.frame.DataFrame'>\n",
      "RangeIndex: 3920 entries, 0 to 3919\n",
      "Data columns (total 4 columns):\n",
      " #   Column      Non-Null Count  Dtype \n",
      "---  ------      --------------  ----- \n",
      " 0   Unnamed: 0  3920 non-null   int64 \n",
      " 1   Text        3920 non-null   object\n",
      " 2   Label       3920 non-null   object\n",
      " 3   Cleaned     3920 non-null   object\n",
      "dtypes: int64(1), object(3)\n",
      "memory usage: 122.6+ KB\n"
     ]
    }
   ],
   "source": [
    "data.info()"
   ]
  },
  {
   "cell_type": "code",
   "execution_count": 7,
   "metadata": {
    "executionInfo": {
     "elapsed": 11,
     "status": "ok",
     "timestamp": 1654014764031,
     "user": {
      "displayName": "kazi afrime",
      "userId": "17483685230346107889"
     },
     "user_tz": -360
    },
    "id": "xxc4pcbyEtmb"
   },
   "outputs": [],
   "source": [
    "data.drop(columns={'Unnamed: 0'},axis=1,inplace=True)\n",
    "data.dropna(inplace=True)"
   ]
  },
  {
   "cell_type": "code",
   "execution_count": 8,
   "metadata": {
    "colab": {
     "base_uri": "https://localhost:8080/",
     "height": 296
    },
    "executionInfo": {
     "elapsed": 12,
     "status": "ok",
     "timestamp": 1654014764032,
     "user": {
      "displayName": "kazi afrime",
      "userId": "17483685230346107889"
     },
     "user_tz": -360
    },
    "id": "R8bmkYS6E1hz",
    "outputId": "ffdfc963-fc0c-4067-858d-7055630904ae"
   },
   "outputs": [
    {
     "data": {
      "text/plain": [
       "<AxesSubplot: xlabel='Label', ylabel='count'>"
      ]
     },
     "execution_count": 8,
     "metadata": {},
     "output_type": "execute_result"
    },
    {
     "data": {
      "image/png": "[encoded data removed]",
      "text/plain": [
       "<Figure size 640x480 with 1 Axes>"
      ]
     },
     "metadata": {},
     "output_type": "display_data"
    }
   ],
   "source": [
    "sns.set_style('whitegrid')\n",
    "sns.countplot(x = 'Label', data = data)"
   ]
  },
  {
   "cell_type": "code",
   "execution_count": 9,
   "metadata": {
    "colab": {
     "base_uri": "https://localhost:8080/"
    },
    "executionInfo": {
     "elapsed": 9,
     "status": "ok",
     "timestamp": 1654014764032,
     "user": {
      "displayName": "kazi afrime",
      "userId": "17483685230346107889"
     },
     "user_tz": -360
    },
    "id": "aEVsx2L3E5jZ",
    "outputId": "972f758e-8799-498f-9bb9-c2ee91502b27"
   },
   "outputs": [
    {
     "name": "stdout",
     "output_type": "stream",
     "text": [
      "After Cleaning: \n",
      "Removed 0 Small Text \n",
      "Total Text: 3920\n"
     ]
    }
   ],
   "source": [
    "# Remove the Text with least words\n",
    "data['length'] = data['Cleaned'].apply(lambda x:len(x.split()))\n",
    "dataset = data.loc[data.length>0]\n",
    "dataset = dataset.reset_index(drop = True)\n",
    "print(\"After Cleaning:\",\"\\nRemoved {} Small Text\".format(len(data)-len(dataset)),\n",
    "      \"\\nTotal Text:\",len(dataset))"
   ]
  },
  {
   "cell_type": "code",
   "execution_count": 10,
   "metadata": {
    "colab": {
     "base_uri": "https://localhost:8080/",
     "height": 347
    },
    "executionInfo": {
     "elapsed": 19,
     "status": "ok",
     "timestamp": 1654014766645,
     "user": {
      "displayName": "kazi afrime",
      "userId": "17483685230346107889"
     },
     "user_tz": -360
    },
    "id": "xSAYejXwE8cN",
    "outputId": "2d50268a-e6a8-490c-8a96-c98d9e7cd36f"
   },
   "outputs": [
    {
     "data": {
      "image/png": "[encoded data removed]",
      "text/plain": [
       "<Figure size 640x480 with 1 Axes>"
      ]
     },
     "metadata": {},
     "output_type": "display_data"
    },
    {
     "name": "stdout",
     "output_type": "stream",
     "text": [
      "Maximum Length of a Text: 43\n",
      "Minimum Length of a Text: 1\n",
      "Average Length of a Text: 8.0\n"
     ]
    }
   ],
   "source": [
    "# Calculate the Text of each of the Text\n",
    "dataset['TextLength'] = dataset.Cleaned.apply(lambda x:len(x.split()))\n",
    "frequency = dict()\n",
    "for i in dataset.TextLength:\n",
    "    frequency[i] = frequency.get(i, 0)+1\n",
    "\n",
    "plt.bar(frequency.keys(), frequency.values(), color =\"b\")\n",
    "plt.xlim(1, 135)\n",
    "plt.xlabel('Lenght of the Texts')\n",
    "plt.ylabel('Frequency')\n",
    "plt.title('Length-Frequency Distribution')\n",
    "plt.show()  \n",
    "print(f\"Maximum Length of a Text: {max(dataset.TextLength)}\")\n",
    "print(f\"Minimum Length of a Text: {min(dataset.TextLength)}\")\n",
    "print(f\"Average Length of a Text: {round(np.mean(dataset.TextLength),0)}\")"
   ]
  },
  {
   "cell_type": "code",
   "execution_count": 11,
   "metadata": {
    "colab": {
     "base_uri": "https://localhost:8080/"
    },
    "executionInfo": {
     "elapsed": 16,
     "status": "ok",
     "timestamp": 1654014766645,
     "user": {
      "displayName": "kazi afrime",
      "userId": "17483685230346107889"
     },
     "user_tz": -360
    },
    "id": "iP7ix-m9FjEX",
    "outputId": "c038a558-9a00-48b1-bd5f-6d0a2a43abdd"
   },
   "outputs": [
    {
     "data": {
      "text/plain": [
       "0       হেলো ম্যাডাম আমাদের কনো ধরনের ভ্যাকসিনের প্রয়ো...\n",
       "1       হো গার ভিত্রে টাইগার বোম মলম লাগাইলে এমনে ভাবে...\n",
       "2               হো গায় অতিরিক্ত কারেন্ট থাকলে যা হয় আরকি \n",
       "3                                   হেডার কারেন্ট কমে নাই\n",
       "4                                            হেডার মহিলা \n",
       "                              ...                        \n",
       "3915     অনেক সুন্দর মাশাল্লাহ হাহা রিয়েক্ট আর নেগেটিভ...\n",
       "3916                          অনেক অনেক দোয়া রইল অফুরন্ত \n",
       "3917                       মোটামুটি ভালোই হয়েছে ভিডিওটা \n",
       "3918         বাংলাদেশ থেকে আপনার প্রতি অনেক অনেক ভালোবাসা\n",
       "3919      তোমার ভিডিও গুলি আমার মন ভালো করার জন্য যথেষ্ট\n",
       "Name: Cleaned, Length: 3920, dtype: object"
      ]
     },
     "execution_count": 11,
     "metadata": {},
     "output_type": "execute_result"
    }
   ],
   "source": [
    "data.Cleaned"
   ]
  },
  {
   "cell_type": "code",
   "execution_count": 12,
   "metadata": {
    "executionInfo": {
     "elapsed": 1007,
     "status": "ok",
     "timestamp": 1654014768321,
     "user": {
      "displayName": "kazi afrime",
      "userId": "17483685230346107889"
     },
     "user_tz": -360
    },
    "id": "p6lUuX_IZwYk"
   },
   "outputs": [],
   "source": [
    "from sklearn.model_selection import train_test_split\n",
    "from tensorflow.keras.preprocessing.text import Tokenizer\n",
    "from tensorflow.keras.preprocessing.sequence import pad_sequences\n",
    "from keras.utils.np_utils import to_categorical\n",
    "from sklearn.preprocessing import LabelEncoder\n",
    "from keras import models\n",
    "from keras import layers\n",
    "from tensorflow.keras.models import Model\n",
    "from tensorflow.keras.layers import LSTM\n",
    "import tensorflow.keras.backend as K"
   ]
  },
  {
   "cell_type": "code",
   "execution_count": 13,
   "metadata": {
    "executionInfo": {
     "elapsed": 6,
     "status": "ok",
     "timestamp": 1654014768321,
     "user": {
      "displayName": "kazi afrime",
      "userId": "17483685230346107889"
     },
     "user_tz": -360
    },
    "id": "mtfrGu-haJv2"
   },
   "outputs": [],
   "source": [
    "voc_size=10000\n",
    "sent_length=max(dataset.TextLength)\n",
    "num_of_epoch=15"
   ]
  },
  {
   "cell_type": "code",
   "execution_count": 14,
   "metadata": {
    "colab": {
     "base_uri": "https://localhost:8080/"
    },
    "executionInfo": {
     "elapsed": 6,
     "status": "ok",
     "timestamp": 1654014768322,
     "user": {
      "displayName": "kazi afrime",
      "userId": "17483685230346107889"
     },
     "user_tz": -360
    },
    "id": "nhm5ba-UagjS",
    "outputId": "83d78da2-c51d-4b57-e9b5-9434c27a59c8"
   },
   "outputs": [
    {
     "name": "stdout",
     "output_type": "stream",
     "text": [
      "Train data: 3136\n",
      "Test data: 784\n"
     ]
    }
   ],
   "source": [
    "X_train, X_test, y_train, y_test = train_test_split(data.Cleaned, data.Label, test_size=0.2, random_state=42)\n",
    "print('Train data:', X_train.shape[0])\n",
    "print('Test data:', X_test.shape[0])\n",
    "assert X_train.shape[0] == y_train.shape[0]\n",
    "assert X_test.shape[0] == y_test.shape[0]"
   ]
  },
  {
   "cell_type": "code",
   "execution_count": 15,
   "metadata": {
    "executionInfo": {
     "elapsed": 4,
     "status": "ok",
     "timestamp": 1654014768322,
     "user": {
      "displayName": "kazi afrime",
      "userId": "17483685230346107889"
     },
     "user_tz": -360
    },
    "id": "nGbWaLkAa2eD"
   },
   "outputs": [],
   "source": [
    "tokenizer = Tokenizer(num_words = voc_size, split = (' '))\n",
    "\n",
    "tokenizer.fit_on_texts(X_train)"
   ]
  },
  {
   "cell_type": "code",
   "execution_count": 16,
   "metadata": {
    "executionInfo": {
     "elapsed": 732,
     "status": "ok",
     "timestamp": 1654014769051,
     "user": {
      "displayName": "kazi afrime",
      "userId": "17483685230346107889"
     },
     "user_tz": -360
    },
    "id": "fuTkyLHpbVAL"
   },
   "outputs": [],
   "source": [
    "X_train_seq = tokenizer.texts_to_sequences(X_train)\n",
    "X_test_seq = tokenizer.texts_to_sequences(X_test)"
   ]
  },
  {
   "cell_type": "code",
   "execution_count": 17,
   "metadata": {
    "executionInfo": {
     "elapsed": 27,
     "status": "ok",
     "timestamp": 1654014769052,
     "user": {
      "displayName": "kazi afrime",
      "userId": "17483685230346107889"
     },
     "user_tz": -360
    },
    "id": "mpbeeIdibkEC"
   },
   "outputs": [],
   "source": [
    "X_train_seq_trunc = pad_sequences(X_train_seq, maxlen=sent_length)\n",
    "X_test_seq_trunc = pad_sequences(X_test_seq, maxlen=sent_length)"
   ]
  },
  {
   "cell_type": "code",
   "execution_count": 18,
   "metadata": {
    "colab": {
     "base_uri": "https://localhost:8080/"
    },
    "executionInfo": {
     "elapsed": 27,
     "status": "ok",
     "timestamp": 1654014769053,
     "user": {
      "displayName": "kazi afrime",
      "userId": "17483685230346107889"
     },
     "user_tz": -360
    },
    "id": "XDbM6QWebnU1",
    "outputId": "0b06bf34-c55c-446a-a23b-95d11c38f0f8"
   },
   "outputs": [
    {
     "data": {
      "text/plain": [
       "array([   0,    0,    0,    0,    0,    0,    0,    0,    0,    0,    0,\n",
       "          0,    0,    0,    0,    0,    0,    0,    0,    0,    0,    0,\n",
       "          0,    0,    0,    0,    0,    0,    0,    0,    0,  335,  101,\n",
       "        437,  273,  369,  100,    3,  404,   22, 1694,  477,  405])"
      ]
     },
     "execution_count": 18,
     "metadata": {},
     "output_type": "execute_result"
    }
   ],
   "source": [
    "# Example of padded sequence\n",
    "X_train_seq_trunc[10]"
   ]
  },
  {
   "cell_type": "code",
   "execution_count": 19,
   "metadata": {
    "executionInfo": {
     "elapsed": 24,
     "status": "ok",
     "timestamp": 1654014769054,
     "user": {
      "displayName": "kazi afrime",
      "userId": "17483685230346107889"
     },
     "user_tz": -360
    },
    "id": "T9vKTfQq8Zr9"
   },
   "outputs": [],
   "source": [
    "le = LabelEncoder()\n",
    "\n",
    "y_train_le = le.fit_transform(y_train)\n",
    "y_test_le = le.transform(y_test)\n",
    "\n",
    "y_train_oh = to_categorical(y_train_le)\n",
    "y_test_oh = to_categorical(y_test_le)"
   ]
  },
  {
   "cell_type": "code",
   "execution_count": 20,
   "metadata": {
    "colab": {
     "base_uri": "https://localhost:8080/"
    },
    "executionInfo": {
     "elapsed": 23,
     "status": "ok",
     "timestamp": 1654014769054,
     "user": {
      "displayName": "kazi afrime",
      "userId": "17483685230346107889"
     },
     "user_tz": -360
    },
    "id": "J9EBfU5tb0vU",
    "outputId": "1fb983ae-3305-4c95-d995-75ab5b7adc77"
   },
   "outputs": [
    {
     "name": "stdout",
     "output_type": "stream",
     "text": [
      "Shape of validation set: (628, 43)\n"
     ]
    }
   ],
   "source": [
    "X_train_emb, X_valid_emb, y_train_emb, y_valid_emb = train_test_split(X_train_seq_trunc, y_train_oh, test_size=0.2, random_state=42)\n",
    "\n",
    "assert X_valid_emb.shape[0] == y_valid_emb.shape[0]\n",
    "assert X_train_emb.shape[0] == y_train_emb.shape[0]\n",
    "\n",
    "print('Shape of validation set:',X_valid_emb.shape)"
   ]
  },
  {
   "cell_type": "code",
   "execution_count": 21,
   "metadata": {
    "executionInfo": {
     "elapsed": 21,
     "status": "ok",
     "timestamp": 1654014769055,
     "user": {
      "displayName": "kazi afrime",
      "userId": "17483685230346107889"
     },
     "user_tz": -360
    },
    "id": "ll1afVE4b3jQ"
   },
   "outputs": [],
   "source": [
    "def precision(y_true, y_pred):\n",
    "    true_positives = K.sum(K.round(K.clip(y_true * y_pred, 0, 1)))\n",
    "    predicted_positives = K.sum(K.round(K.clip(y_pred, 0, 1)))\n",
    "    precision = true_positives / (predicted_positives + K.epsilon())\n",
    "    return precision\n",
    "\n",
    "def recall(y_true, y_pred):\n",
    "    true_positives = K.sum(K.round(K.clip(y_true * y_pred, 0, 1)))\n",
    "    possible_positives = K.sum(K.round(K.clip(y_true, 0, 1)))\n",
    "    recall = true_positives / (possible_positives + K.epsilon())\n",
    "    return recall"
   ]
  },
  {
   "cell_type": "code",
   "execution_count": 22,
   "metadata": {
    "colab": {
     "base_uri": "https://localhost:8080/"
    },
    "executionInfo": {
     "elapsed": 20,
     "status": "ok",
     "timestamp": 1654014769055,
     "user": {
      "displayName": "kazi afrime",
      "userId": "17483685230346107889"
     },
     "user_tz": -360
    },
    "id": "ZjNEJwZXlauX",
    "outputId": "bfcc88c0-7bdb-451d-b20a-407717725cdc"
   },
   "outputs": [
    {
     "name": "stdout",
     "output_type": "stream",
     "text": [
      "Model: \"sequential\"\n",
      "_________________________________________________________________\n",
      " Layer (type)                Output Shape              Param #   \n",
      "=================================================================\n",
      " embedding (Embedding)       (None, 43, 8)             80000     \n",
      "                                                                 \n",
      " conv1d (Conv1D)             (None, 39, 128)           5248      \n",
      "                                                                 \n",
      " global_max_pooling1d (Globa  (None, 128)              0         \n",
      " lMaxPooling1D)                                                  \n",
      "                                                                 \n",
      " dense (Dense)               (None, 10)                1290      \n",
      "                                                                 \n",
      " dense_1 (Dense)             (None, 2)                 22        \n",
      "                                                                 \n",
      "=================================================================\n",
      "Total params: 86,560\n",
      "Trainable params: 86,560\n",
      "Non-trainable params: 0\n",
      "_________________________________________________________________\n"
     ]
    }
   ],
   "source": [
    "model = models.Sequential()\n",
    "model.add(layers.Embedding(voc_size, 8, input_length=sent_length))\n",
    "model.add(layers.Conv1D(128, 5, activation='relu'))\n",
    "model.add(layers.GlobalMaxPooling1D())\n",
    "model.add(layers.Dense(10, activation='relu'))\n",
    "model.add(layers.Dense(2, activation='sigmoid'))\n",
    "model.summary()"
   ]
  },
  {
   "cell_type": "code",
   "execution_count": 23,
   "metadata": {
    "executionInfo": {
     "elapsed": 11,
     "status": "ok",
     "timestamp": 1654014769056,
     "user": {
      "displayName": "kazi afrime",
      "userId": "17483685230346107889"
     },
     "user_tz": -360
    },
    "id": "1UkCumLZaTPl"
   },
   "outputs": [],
   "source": [
    "def deep_model(model, X_train, y_train, X_valid, y_valid):\n",
    "\n",
    "    model.compile(optimizer='rmsprop'\n",
    "                  , loss='categorical_crossentropy'\n",
    "                  , metrics=['accuracy', precision, recall])\n",
    "    \n",
    "    history = model.fit(X_train\n",
    "                       , y_train\n",
    "                       , epochs=num_of_epoch\n",
    "                       , batch_size=64\n",
    "                       , validation_data=(X_valid, y_valid)\n",
    "                       , verbose=1)\n",
    "    return history"
   ]
  },
  {
   "cell_type": "code",
   "execution_count": 24,
   "metadata": {
    "colab": {
     "base_uri": "https://localhost:8080/"
    },
    "executionInfo": {
     "elapsed": 23334,
     "status": "ok",
     "timestamp": 1654014792380,
     "user": {
      "displayName": "kazi afrime",
      "userId": "17483685230346107889"
     },
     "user_tz": -360
    },
    "id": "a_YPGnldcZ3o",
    "outputId": "4bee623e-2d2e-4e2d-92fc-6c84994941ed"
   },
   "outputs": [
    {
     "name": "stdout",
     "output_type": "stream",
     "text": [
      "Epoch 1/15\n",
      "40/40 [==============================] - 1s 6ms/step - loss: 0.6772 - accuracy: 0.6264 - precision: 0.5846 - recall: 0.9172 - val_loss: 0.6279 - val_accuracy: 0.7914 - val_precision: 0.7387 - val_recall: 0.8687\n",
      "Epoch 2/15\n",
      "40/40 [==============================] - 0s 3ms/step - loss: 0.5227 - accuracy: 0.8684 - precision: 0.8534 - recall: 0.8919 - val_loss: 0.4393 - val_accuracy: 0.8439 - val_precision: 0.8368 - val_recall: 0.8488\n",
      "Epoch 3/15\n",
      "40/40 [==============================] - 0s 3ms/step - loss: 0.3000 - accuracy: 0.9211 - precision: 0.9275 - recall: 0.9168 - val_loss: 0.2846 - val_accuracy: 0.8981 - val_precision: 0.9086 - val_recall: 0.8811\n",
      "Epoch 4/15\n",
      "40/40 [==============================] - 0s 3ms/step - loss: 0.1524 - accuracy: 0.9585 - precision: 0.9650 - recall: 0.9510 - val_loss: 0.2092 - val_accuracy: 0.9172 - val_precision: 0.9275 - val_recall: 0.9034\n",
      "Epoch 5/15\n",
      "40/40 [==============================] - 0s 3ms/step - loss: 0.0810 - accuracy: 0.9753 - precision: 0.9798 - recall: 0.9702 - val_loss: 0.1793 - val_accuracy: 0.9204 - val_precision: 0.9313 - val_recall: 0.9096\n",
      "Epoch 6/15\n",
      "40/40 [==============================] - 0s 3ms/step - loss: 0.0438 - accuracy: 0.9880 - precision: 0.9906 - recall: 0.9839 - val_loss: 0.1513 - val_accuracy: 0.9411 - val_precision: 0.9444 - val_recall: 0.9310\n",
      "Epoch 7/15\n",
      "40/40 [==============================] - 0s 3ms/step - loss: 0.0239 - accuracy: 0.9932 - precision: 0.9953 - recall: 0.9905 - val_loss: 0.1375 - val_accuracy: 0.9506 - val_precision: 0.9555 - val_recall: 0.9419\n",
      "Epoch 8/15\n",
      "40/40 [==============================] - 0s 3ms/step - loss: 0.0124 - accuracy: 0.9956 - precision: 0.9973 - recall: 0.9957 - val_loss: 0.1358 - val_accuracy: 0.9490 - val_precision: 0.9575 - val_recall: 0.9435\n",
      "Epoch 9/15\n",
      "40/40 [==============================] - 0s 3ms/step - loss: 0.0067 - accuracy: 0.9996 - precision: 0.9996 - recall: 0.9980 - val_loss: 0.1465 - val_accuracy: 0.9490 - val_precision: 0.9543 - val_recall: 0.9451\n",
      "Epoch 10/15\n",
      "40/40 [==============================] - 0s 3ms/step - loss: 0.0036 - accuracy: 0.9992 - precision: 0.9996 - recall: 0.9992 - val_loss: 0.1403 - val_accuracy: 0.9554 - val_precision: 0.9625 - val_recall: 0.9501\n",
      "Epoch 11/15\n",
      "40/40 [==============================] - 0s 3ms/step - loss: 0.0019 - accuracy: 0.9996 - precision: 1.0000 - recall: 0.9996 - val_loss: 0.1479 - val_accuracy: 0.9602 - val_precision: 0.9596 - val_recall: 0.9489\n",
      "Epoch 12/15\n",
      "40/40 [==============================] - 0s 3ms/step - loss: 8.8367e-04 - accuracy: 1.0000 - precision: 1.0000 - recall: 1.0000 - val_loss: 0.1594 - val_accuracy: 0.9554 - val_precision: 0.9563 - val_recall: 0.9482\n",
      "Epoch 13/15\n",
      "40/40 [==============================] - 0s 3ms/step - loss: 5.7128e-04 - accuracy: 1.0000 - precision: 1.0000 - recall: 1.0000 - val_loss: 0.1637 - val_accuracy: 0.9522 - val_precision: 0.9596 - val_recall: 0.9489\n",
      "Epoch 14/15\n",
      "40/40 [==============================] - 0s 3ms/step - loss: 3.9750e-04 - accuracy: 1.0000 - precision: 1.0000 - recall: 1.0000 - val_loss: 0.1706 - val_accuracy: 0.9522 - val_precision: 0.9594 - val_recall: 0.9454\n",
      "Epoch 15/15\n",
      "40/40 [==============================] - 0s 3ms/step - loss: 2.3366e-04 - accuracy: 1.0000 - precision: 1.0000 - recall: 1.0000 - val_loss: 0.1760 - val_accuracy: 0.9522 - val_precision: 0.9579 - val_recall: 0.9470\n"
     ]
    }
   ],
   "source": [
    "history = deep_model(model, X_train_emb, y_train_emb, X_valid_emb, y_valid_emb)"
   ]
  },
  {
   "cell_type": "code",
   "execution_count": 25,
   "metadata": {
    "colab": {
     "base_uri": "https://localhost:8080/",
     "height": 295
    },
    "executionInfo": {
     "elapsed": 800,
     "status": "ok",
     "timestamp": 1654014793175,
     "user": {
      "displayName": "kazi afrime",
      "userId": "17483685230346107889"
     },
     "user_tz": -360
    },
    "id": "axX5F0owdknQ",
    "outputId": "21e96415-d518-4c02-82e0-f01db30c836e"
   },
   "outputs": [
    {
     "data": {
      "image/png": "[encoded data removed]",
      "text/plain": [
       "<Figure size 640x480 with 1 Axes>"
      ]
     },
     "metadata": {},
     "output_type": "display_data"
    }
   ],
   "source": [
    "plt.figure(0)\n",
    "plt.plot(history.history['accuracy'], label='training accuracy')\n",
    "plt.plot(history.history['val_accuracy'], label='val accuracy')\n",
    "plt.title('Accuracy')\n",
    "plt.xlabel('epochs')\n",
    "plt.ylabel('accuracy')\n",
    "plt.legend()\n",
    "plt.show()"
   ]
  },
  {
   "cell_type": "code",
   "execution_count": 26,
   "metadata": {
    "colab": {
     "base_uri": "https://localhost:8080/",
     "height": 295
    },
    "executionInfo": {
     "elapsed": 508,
     "status": "ok",
     "timestamp": 1654014793677,
     "user": {
      "displayName": "kazi afrime",
      "userId": "17483685230346107889"
     },
     "user_tz": -360
    },
    "id": "baMj90Llfd0v",
    "outputId": "04b53043-5d92-4fb8-c7a0-561d958983ee"
   },
   "outputs": [
    {
     "data": {
      "image/png": "[encoded data removed]",
      "text/plain": [
       "<Figure size 640x480 with 1 Axes>"
      ]
     },
     "metadata": {},
     "output_type": "display_data"
    }
   ],
   "source": [
    "plt.figure(1)\n",
    "plt.plot(history.history['loss'], label='training loss')\n",
    "plt.plot(history.history['val_loss'], label='val loss')\n",
    "plt.title('Loss')\n",
    "plt.xlabel('epochs')\n",
    "plt.ylabel('loss')\n",
    "plt.legend()\n",
    "plt.show()"
   ]
  },
  {
   "cell_type": "code",
   "execution_count": 27,
   "metadata": {
    "colab": {
     "base_uri": "https://localhost:8080/"
    },
    "executionInfo": {
     "elapsed": 1396,
     "status": "ok",
     "timestamp": 1654014795069,
     "user": {
      "displayName": "kazi afrime",
      "userId": "17483685230346107889"
     },
     "user_tz": -360
    },
    "id": "xaTt896nms7G",
    "outputId": "63dbdcc2-d980-4f13-c99f-f9e66297068f"
   },
   "outputs": [
    {
     "name": "stdout",
     "output_type": "stream",
     "text": [
      "Train accuracy: 0.9904336929321289\n"
     ]
    }
   ],
   "source": [
    "train_score = model.evaluate(X_train_seq_trunc, y_train_oh, verbose=0)\n",
    "print('Train accuracy:', train_score[1])"
   ]
  },
  {
   "cell_type": "code",
   "execution_count": 28,
   "metadata": {
    "colab": {
     "base_uri": "https://localhost:8080/"
    },
    "executionInfo": {
     "elapsed": 11,
     "status": "ok",
     "timestamp": 1654014795070,
     "user": {
      "displayName": "kazi afrime",
      "userId": "17483685230346107889"
     },
     "user_tz": -360
    },
    "id": "EQw9XzUxm1bS",
    "outputId": "993039cb-3b21-4a8e-812c-9d25c3c852fb"
   },
   "outputs": [
    {
     "name": "stdout",
     "output_type": "stream",
     "text": [
      "Test accuracy: 0.9515306353569031\n"
     ]
    }
   ],
   "source": [
    "test_score = model.evaluate(X_test_seq_trunc, y_test_oh, verbose=0)\n",
    "print('Test accuracy:', test_score[1])"
   ]
  },
  {
   "cell_type": "code",
   "execution_count": 29,
   "metadata": {
    "colab": {
     "base_uri": "https://localhost:8080/",
     "height": 266
    },
    "executionInfo": {
     "elapsed": 6,
     "status": "ok",
     "timestamp": 1654014795070,
     "user": {
      "displayName": "kazi afrime",
      "userId": "17483685230346107889"
     },
     "user_tz": -360
    },
    "id": "sMwNJAT84MrF",
    "outputId": "ca182661-2afd-4a00-af41-897ca2a56df1"
   },
   "outputs": [
    {
     "data": {
      "image/png": "[encoded data removed]",
      "text/plain": [
       "<Figure size 640x480 with 1 Axes>"
      ]
     },
     "metadata": {},
     "output_type": "display_data"
    }
   ],
   "source": [
    "accuracy = [train_score[1], test_score[1]]\n",
    "loss = [train_score[0], test_score[0]]\n",
    "index = ['Train', 'test']\n",
    "df = pd.DataFrame({'accuracy': accuracy,\n",
    "                   'loss': loss}, index=index)\n",
    "ax = df.plot.bar(rot=0)"
   ]
  },
  {
   "cell_type": "code",
   "execution_count": 30,
   "metadata": {
    "colab": {
     "base_uri": "https://localhost:8080/"
    },
    "executionInfo": {
     "elapsed": 425,
     "status": "ok",
     "timestamp": 1654014795490,
     "user": {
      "displayName": "kazi afrime",
      "userId": "17483685230346107889"
     },
     "user_tz": -360
    },
    "id": "zROniiV3_n-M",
    "outputId": "a9ae716f-3b98-48b4-cdc9-3c59642e7f77"
   },
   "outputs": [
    {
     "name": "stdout",
     "output_type": "stream",
     "text": [
      "\n",
      "Accuracy  : 0.9515\n",
      "Precision : 0.9549\n",
      "Recall    : 0.9488\n",
      "F1 Score  : 0.9518\n"
     ]
    }
   ],
   "source": [
    "# Evaluate model on the test set\n",
    "loss, accuracy, precision, recall = model.evaluate(X_test_seq_trunc, y_test_oh, verbose=0)\n",
    "# Print metrics\n",
    "print('')\n",
    "print('Accuracy  : {:.4f}'.format(accuracy))\n",
    "print('Precision : {:.4f}'.format(precision))\n",
    "print('Recall    : {:.4f}'.format(recall))\n",
    "\n",
    "def f1_score(precision, recall):\n",
    "    \n",
    "    f1_val = 2*(precision*recall)/(precision+recall+K.epsilon())\n",
    "    return f1_val\n",
    "\n",
    "print('F1 Score  : {:.4f}'.format(f1_score(precision, recall)))"
   ]
  },
  {
   "cell_type": "code",
   "execution_count": 31,
   "metadata": {
    "colab": {
     "base_uri": "https://localhost:8080/",
     "height": 409
    },
    "executionInfo": {
     "elapsed": 2439,
     "status": "ok",
     "timestamp": 1654014797926,
     "user": {
      "displayName": "kazi afrime",
      "userId": "17483685230346107889"
     },
     "user_tz": -360
    },
    "id": "lNT_y3wL_u9V",
    "outputId": "cfd15b1c-04f7-466c-f3e5-a81693143cb4"
   },
   "outputs": [
    {
     "name": "stdout",
     "output_type": "stream",
     "text": [
      "25/25 [==============================] - 0s 646us/step\n"
     ]
    },
    {
     "data": {
      "image/png": "[encoded data removed]",
      "text/plain": [
       "<Figure size 800x600 with 2 Axes>"
      ]
     },
     "metadata": {},
     "output_type": "display_data"
    }
   ],
   "source": [
    "from sklearn.metrics import confusion_matrix\n",
    "\n",
    "def plot_confusion_matrix(model, X_test, y_test):\n",
    "\n",
    "    \n",
    "    classes = ['Negative', 'Positive']\n",
    "    # use model to do the prediction\n",
    "    y_pred = model.predict(X_test)\n",
    "    # compute confusion matrix\n",
    "    cm = confusion_matrix(np.argmax(np.array(y_test),axis=1), np.argmax(y_pred, axis=1))\n",
    "    # plot confusion matrix\n",
    "    plt.figure(figsize=(8,6))\n",
    "    sns.heatmap(cm, cmap=plt.cm.Blues, annot=True, fmt='d', \n",
    "                xticklabels=classes,\n",
    "                yticklabels=classes)\n",
    "    plt.title('Confusion matrix', fontsize=16)\n",
    "    plt.xlabel('Actual label', fontsize=12)\n",
    "    plt.ylabel('Predicted label', fontsize=12)\n",
    "    \n",
    "plot_confusion_matrix(model, X_test_seq_trunc, y_test_oh)"
   ]
  },
  {
   "cell_type": "code",
   "execution_count": null,
   "metadata": {
    "executionInfo": {
     "elapsed": 22,
     "status": "ok",
     "timestamp": 1654014797929,
     "user": {
      "displayName": "kazi afrime",
      "userId": "17483685230346107889"
     },
     "user_tz": -360
    },
    "id": "qAlhiU_3_ZdH"
   },
   "outputs": [],
   "source": []
  }
 ],
 "metadata": {
  "colab": {
   "authorship_tag": "ABX9TyO+srKLT5ktzl5QFmq9rw51",
   "collapsed_sections": [],
   "mount_file_id": "1cYPilw7uHEUBpUefT9iWlo4Zhcy5Vbfh",
   "name": "BA_text_main_CNN_final.ipynb",
   "provenance": [
    {
     "file_id": "1v1nc27Tp4pTIIk5pJxeGa-jNqSCikUnC",
     "timestamp": 1653374720784
    },
    {
     "file_id": "1nekWZ-Y1pQkD9Ay7QgV387XBdHv-Y2Ea",
     "timestamp": 1651828401418
    }
   ]
  },
  "kernelspec": {
   "display_name": "Python 3 (ipykernel)",
   "language": "python",
   "name": "python3"
  },
  "language_info": {
   "codemirror_mode": {
    "name": "ipython",
    "version": 3
   },
   "file_extension": ".py",
   "mimetype": "text/x-python",
   "name": "python",
   "nbconvert_exporter": "python",
   "pygments_lexer": "ipython3",
   "version": "3.9.16"
  }
 },
 "nbformat": 4,
 "nbformat_minor": 1
}
