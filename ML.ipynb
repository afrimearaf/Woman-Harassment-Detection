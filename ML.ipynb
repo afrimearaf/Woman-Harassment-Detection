{
 "cells": [
  {
   "cell_type": "code",
   "execution_count": 1,
   "metadata": {
    "id": "c9LUSSYZuIXQ"
   },
   "outputs": [],
   "source": [
    "import numpy as np\n",
    "import pandas as pd\n",
    "import matplotlib.pyplot as plt\n",
    "%matplotlib inline\n",
    "import seaborn as sns\n",
    "import re,nltk"
   ]
  },
  {
   "cell_type": "code",
   "execution_count": 2,
   "metadata": {
    "colab": {
     "base_uri": "https://localhost:8080/",
     "height": 206
    },
    "executionInfo": {
     "elapsed": 1517,
     "status": "ok",
     "timestamp": 1651426236306,
     "user": {
      "displayName": "kazi afrime",
      "userId": "17483685230346107889"
     },
     "user_tz": -360
    },
    "id": "tlQ4tpCauUk3",
    "outputId": "a0322231-1a82-455d-a869-97af60b4ba28"
   },
   "outputs": [
    {
     "data": {
      "text/html": [
       "<div>\n",
       "<style scoped>\n",
       "    .dataframe tbody tr th:only-of-type {\n",
       "        vertical-align: middle;\n",
       "    }\n",
       "\n",
       "    .dataframe tbody tr th {\n",
       "        vertical-align: top;\n",
       "    }\n",
       "\n",
       "    .dataframe thead th {\n",
       "        text-align: right;\n",
       "    }\n",
       "</style>\n",
       "<table border=\"1\" class=\"dataframe\">\n",
       "  <thead>\n",
       "    <tr style=\"text-align: right;\">\n",
       "      <th></th>\n",
       "      <th>Unnamed: 0</th>\n",
       "      <th>Text</th>\n",
       "      <th>Label</th>\n",
       "      <th>Cleaned</th>\n",
       "    </tr>\n",
       "  </thead>\n",
       "  <tbody>\n",
       "    <tr>\n",
       "      <th>0</th>\n",
       "      <td>0</td>\n",
       "      <td>হেলো ম্যাডাম! আমাদের কনো ধরনের ভ্যাকসিনের প্রয়...</td>\n",
       "      <td>Negative</td>\n",
       "      <td>হেলো ম্যাডাম আমাদের কনো ধরনের ভ্যাকসিনের প্রয়ো...</td>\n",
       "    </tr>\n",
       "    <tr>\n",
       "      <th>1</th>\n",
       "      <td>1</td>\n",
       "      <td>হো*গার ভিত্রে টাইগার বোম মলম লাগাইলে এমনে ভাবে...</td>\n",
       "      <td>Negative</td>\n",
       "      <td>হো গার ভিত্রে টাইগার বোম মলম লাগাইলে এমনে ভাবে...</td>\n",
       "    </tr>\n",
       "    <tr>\n",
       "      <th>2</th>\n",
       "      <td>2</td>\n",
       "      <td>হো**গায় অতিরিক্ত কারেন্ট থাকলে যা হয় আরকি</td>\n",
       "      <td>Negative</td>\n",
       "      <td>হো গায় অতিরিক্ত কারেন্ট থাকলে যা হয় আরকি</td>\n",
       "    </tr>\n",
       "    <tr>\n",
       "      <th>3</th>\n",
       "      <td>3</td>\n",
       "      <td>হেডার কারেন্ট কমে নাই</td>\n",
       "      <td>Negative</td>\n",
       "      <td>হেডার কারেন্ট কমে নাই</td>\n",
       "    </tr>\n",
       "    <tr>\n",
       "      <th>4</th>\n",
       "      <td>4</td>\n",
       "      <td>হেডার মহিলা</td>\n",
       "      <td>Negative</td>\n",
       "      <td>হেডার মহিলা</td>\n",
       "    </tr>\n",
       "  </tbody>\n",
       "</table>\n",
       "</div>"
      ],
      "text/plain": [
       "   Unnamed: 0                                               Text     Label  \\\n",
       "0           0  হেলো ম্যাডাম! আমাদের কনো ধরনের ভ্যাকসিনের প্রয়...  Negative   \n",
       "1           1  হো*গার ভিত্রে টাইগার বোম মলম লাগাইলে এমনে ভাবে...  Negative   \n",
       "2           2         হো**গায় অতিরিক্ত কারেন্ট থাকলে যা হয় আরকি   Negative   \n",
       "3           3                              হেডার কারেন্ট কমে নাই  Negative   \n",
       "4           4                                       হেডার মহিলা   Negative   \n",
       "\n",
       "                                             Cleaned  \n",
       "0  হেলো ম্যাডাম আমাদের কনো ধরনের ভ্যাকসিনের প্রয়ো...  \n",
       "1  হো গার ভিত্রে টাইগার বোম মলম লাগাইলে এমনে ভাবে...  \n",
       "2          হো গায় অতিরিক্ত কারেন্ট থাকলে যা হয় আরকি   \n",
       "3                              হেডার কারেন্ট কমে নাই  \n",
       "4                                       হেডার মহিলা   "
      ]
     },
     "execution_count": 2,
     "metadata": {},
     "output_type": "execute_result"
    }
   ],
   "source": [
    "data = pd.read_excel('clean_data.xlsx')\n",
    "data.head()"
   ]
  },
  {
   "cell_type": "code",
   "execution_count": 3,
   "metadata": {
    "colab": {
     "base_uri": "https://localhost:8080/"
    },
    "executionInfo": {
     "elapsed": 16,
     "status": "ok",
     "timestamp": 1651426236307,
     "user": {
      "displayName": "kazi afrime",
      "userId": "17483685230346107889"
     },
     "user_tz": -360
    },
    "id": "4E1fQk46vB68",
    "outputId": "df845eb8-5262-4ff6-c8ac-7a03785f6ac8"
   },
   "outputs": [
    {
     "name": "stdout",
     "output_type": "stream",
     "text": [
      "<class 'pandas.core.frame.DataFrame'>\n",
      "RangeIndex: 3920 entries, 0 to 3919\n",
      "Data columns (total 4 columns):\n",
      " #   Column      Non-Null Count  Dtype \n",
      "---  ------      --------------  ----- \n",
      " 0   Unnamed: 0  3920 non-null   int64 \n",
      " 1   Text        3920 non-null   object\n",
      " 2   Label       3920 non-null   object\n",
      " 3   Cleaned     3920 non-null   object\n",
      "dtypes: int64(1), object(3)\n",
      "memory usage: 122.6+ KB\n"
     ]
    }
   ],
   "source": [
    "data.info()"
   ]
  },
  {
   "cell_type": "code",
   "execution_count": 4,
   "metadata": {
    "id": "aW7cWdlTvdHX"
   },
   "outputs": [],
   "source": [
    "data.drop(columns={'Unnamed: 0'},axis=1,inplace=True)\n",
    "data.dropna(inplace=True)"
   ]
  },
  {
   "cell_type": "code",
   "execution_count": 5,
   "metadata": {
    "colab": {
     "base_uri": "https://localhost:8080/",
     "height": 296
    },
    "executionInfo": {
     "elapsed": 14,
     "status": "ok",
     "timestamp": 1651426236309,
     "user": {
      "displayName": "kazi afrime",
      "userId": "17483685230346107889"
     },
     "user_tz": -360
    },
    "id": "OjG2sxu5wD-V",
    "outputId": "26b779f3-ff9f-4c8a-ece4-0e5ca1e9feca"
   },
   "outputs": [
    {
     "data": {
      "text/plain": [
       "<AxesSubplot: xlabel='Label', ylabel='count'>"
      ]
     },
     "execution_count": 5,
     "metadata": {},
     "output_type": "execute_result"
    },
    {
     "data": {
      "image/png": "[encoded data removed]",
      "text/plain": [
       "<Figure size 640x480 with 1 Axes>"
      ]
     },
     "metadata": {},
     "output_type": "display_data"
    }
   ],
   "source": [
    "sns.set_style('whitegrid')\n",
    "sns.countplot(x = 'Label', data = data)"
   ]
  },
  {
   "cell_type": "code",
   "execution_count": 6,
   "metadata": {
    "colab": {
     "base_uri": "https://localhost:8080/"
    },
    "executionInfo": {
     "elapsed": 12,
     "status": "ok",
     "timestamp": 1651426236310,
     "user": {
      "displayName": "kazi afrime",
      "userId": "17483685230346107889"
     },
     "user_tz": -360
    },
    "id": "TA-TXGsvugrY",
    "outputId": "7ec067e2-afff-4954-ab06-eb46e3f3d981"
   },
   "outputs": [
    {
     "name": "stdout",
     "output_type": "stream",
     "text": [
      "After Cleaning: \n",
      "Removed 0 Small Text \n",
      "Total Text: 3920\n"
     ]
    }
   ],
   "source": [
    "# Remove the Text with least words\n",
    "data['length'] = data['Cleaned'].apply(lambda x:len(x.split()))\n",
    "dataset = data.loc[data.length>0]\n",
    "dataset = dataset.reset_index(drop = True)\n",
    "print(\"After Cleaning:\",\"\\nRemoved {} Small Text\".format(len(data)-len(dataset)),\n",
    "      \"\\nTotal Text:\",len(dataset))"
   ]
  },
  {
   "cell_type": "code",
   "execution_count": 7,
   "metadata": {},
   "outputs": [
    {
     "data": {
      "text/html": [
       "<div>\n",
       "<style scoped>\n",
       "    .dataframe tbody tr th:only-of-type {\n",
       "        vertical-align: middle;\n",
       "    }\n",
       "\n",
       "    .dataframe tbody tr th {\n",
       "        vertical-align: top;\n",
       "    }\n",
       "\n",
       "    .dataframe thead th {\n",
       "        text-align: right;\n",
       "    }\n",
       "</style>\n",
       "<table border=\"1\" class=\"dataframe\">\n",
       "  <thead>\n",
       "    <tr style=\"text-align: right;\">\n",
       "      <th></th>\n",
       "      <th>Text</th>\n",
       "      <th>Label</th>\n",
       "      <th>Cleaned</th>\n",
       "      <th>length</th>\n",
       "    </tr>\n",
       "  </thead>\n",
       "  <tbody>\n",
       "    <tr>\n",
       "      <th>0</th>\n",
       "      <td>হেলো ম্যাডাম! আমাদের কনো ধরনের ভ্যাকসিনের প্রয়...</td>\n",
       "      <td>Negative</td>\n",
       "      <td>হেলো ম্যাডাম আমাদের কনো ধরনের ভ্যাকসিনের প্রয়ো...</td>\n",
       "      <td>29</td>\n",
       "    </tr>\n",
       "    <tr>\n",
       "      <th>1</th>\n",
       "      <td>হো*গার ভিত্রে টাইগার বোম মলম লাগাইলে এমনে ভাবে...</td>\n",
       "      <td>Negative</td>\n",
       "      <td>হো গার ভিত্রে টাইগার বোম মলম লাগাইলে এমনে ভাবে...</td>\n",
       "      <td>13</td>\n",
       "    </tr>\n",
       "    <tr>\n",
       "      <th>2</th>\n",
       "      <td>হো**গায় অতিরিক্ত কারেন্ট থাকলে যা হয় আরকি</td>\n",
       "      <td>Negative</td>\n",
       "      <td>হো গায় অতিরিক্ত কারেন্ট থাকলে যা হয় আরকি</td>\n",
       "      <td>8</td>\n",
       "    </tr>\n",
       "    <tr>\n",
       "      <th>3</th>\n",
       "      <td>হেডার কারেন্ট কমে নাই</td>\n",
       "      <td>Negative</td>\n",
       "      <td>হেডার কারেন্ট কমে নাই</td>\n",
       "      <td>4</td>\n",
       "    </tr>\n",
       "    <tr>\n",
       "      <th>4</th>\n",
       "      <td>হেডার মহিলা</td>\n",
       "      <td>Negative</td>\n",
       "      <td>হেডার মহিলা</td>\n",
       "      <td>2</td>\n",
       "    </tr>\n",
       "    <tr>\n",
       "      <th>...</th>\n",
       "      <td>...</td>\n",
       "      <td>...</td>\n",
       "      <td>...</td>\n",
       "      <td>...</td>\n",
       "    </tr>\n",
       "    <tr>\n",
       "      <th>3915</th>\n",
       "      <td>অনেক সুন্দর মাশাল্লাহ.হাহা রিয়েক্ট আর নেগেটিভ...</td>\n",
       "      <td>Positive</td>\n",
       "      <td>অনেক সুন্দর মাশাল্লাহ হাহা রিয়েক্ট আর নেগেটিভ...</td>\n",
       "      <td>11</td>\n",
       "    </tr>\n",
       "    <tr>\n",
       "      <th>3916</th>\n",
       "      <td>অনেক অনেক  দোয়া রইল অফুরন্ত।</td>\n",
       "      <td>Positive</td>\n",
       "      <td>অনেক অনেক দোয়া রইল অফুরন্ত</td>\n",
       "      <td>5</td>\n",
       "    </tr>\n",
       "    <tr>\n",
       "      <th>3917</th>\n",
       "      <td>মোটামুটি ভালোই  হয়েছে ভিডিওটা ।</td>\n",
       "      <td>Positive</td>\n",
       "      <td>মোটামুটি ভালোই হয়েছে ভিডিওটা</td>\n",
       "      <td>4</td>\n",
       "    </tr>\n",
       "    <tr>\n",
       "      <th>3918</th>\n",
       "      <td>বাংলাদেশ থেকে  আপনার প্রতি অনেক অনেক ভালোবাসা</td>\n",
       "      <td>Positive</td>\n",
       "      <td>বাংলাদেশ থেকে আপনার প্রতি অনেক অনেক ভালোবাসা</td>\n",
       "      <td>7</td>\n",
       "    </tr>\n",
       "    <tr>\n",
       "      <th>3919</th>\n",
       "      <td>তোমার ভিডিও গুলি আমার মন ভালো করার জন্য যথেষ্ট</td>\n",
       "      <td>Positive</td>\n",
       "      <td>তোমার ভিডিও গুলি আমার মন ভালো করার জন্য যথেষ্ট</td>\n",
       "      <td>9</td>\n",
       "    </tr>\n",
       "  </tbody>\n",
       "</table>\n",
       "<p>3920 rows × 4 columns</p>\n",
       "</div>"
      ],
      "text/plain": [
       "                                                   Text     Label  \\\n",
       "0     হেলো ম্যাডাম! আমাদের কনো ধরনের ভ্যাকসিনের প্রয়...  Negative   \n",
       "1     হো*গার ভিত্রে টাইগার বোম মলম লাগাইলে এমনে ভাবে...  Negative   \n",
       "2            হো**গায় অতিরিক্ত কারেন্ট থাকলে যা হয় আরকি   Negative   \n",
       "3                                 হেডার কারেন্ট কমে নাই  Negative   \n",
       "4                                          হেডার মহিলা   Negative   \n",
       "...                                                 ...       ...   \n",
       "3915   অনেক সুন্দর মাশাল্লাহ.হাহা রিয়েক্ট আর নেগেটিভ...  Positive   \n",
       "3916                       অনেক অনেক  দোয়া রইল অফুরন্ত।  Positive   \n",
       "3917                  মোটামুটি ভালোই  হয়েছে ভিডিওটা ।   Positive   \n",
       "3918      বাংলাদেশ থেকে  আপনার প্রতি অনেক অনেক ভালোবাসা  Positive   \n",
       "3919    তোমার ভিডিও গুলি আমার মন ভালো করার জন্য যথেষ্ট  Positive   \n",
       "\n",
       "                                                Cleaned  length  \n",
       "0     হেলো ম্যাডাম আমাদের কনো ধরনের ভ্যাকসিনের প্রয়ো...      29  \n",
       "1     হো গার ভিত্রে টাইগার বোম মলম লাগাইলে এমনে ভাবে...      13  \n",
       "2             হো গায় অতিরিক্ত কারেন্ট থাকলে যা হয় আরকি        8  \n",
       "3                                 হেডার কারেন্ট কমে নাই       4  \n",
       "4                                          হেডার মহিলা        2  \n",
       "...                                                 ...     ...  \n",
       "3915   অনেক সুন্দর মাশাল্লাহ হাহা রিয়েক্ট আর নেগেটিভ...      11  \n",
       "3916                        অনেক অনেক দোয়া রইল অফুরন্ত        5  \n",
       "3917                     মোটামুটি ভালোই হয়েছে ভিডিওটা        4  \n",
       "3918       বাংলাদেশ থেকে আপনার প্রতি অনেক অনেক ভালোবাসা       7  \n",
       "3919    তোমার ভিডিও গুলি আমার মন ভালো করার জন্য যথেষ্ট       9  \n",
       "\n",
       "[3920 rows x 4 columns]"
      ]
     },
     "execution_count": 7,
     "metadata": {},
     "output_type": "execute_result"
    }
   ],
   "source": [
    "dataset"
   ]
  },
  {
   "cell_type": "code",
   "execution_count": 8,
   "metadata": {
    "colab": {
     "base_uri": "https://localhost:8080/"
    },
    "executionInfo": {
     "elapsed": 9,
     "status": "ok",
     "timestamp": 1651426238622,
     "user": {
      "displayName": "kazi afrime",
      "userId": "17483685230346107889"
     },
     "user_tz": -360
    },
    "id": "2oZi3RrlwbXT",
    "outputId": "68d0c14d-c956-4a52-ff09-eba69712521d"
   },
   "outputs": [
    {
     "name": "stdout",
     "output_type": "stream",
     "text": [
      "\n",
      "Class Name :  Negative\n",
      "Number of Documents:1960\n",
      "Number of Words:16686\n",
      "Number of Unique Words:3238\n",
      "Most Frequent Words:\n",
      "\n",
      "না\t272\n",
      "কি\t178\n",
      "করে\t174\n",
      "এই\t174\n",
      "আর\t132\n",
      "হয়\t120\n",
      "একটা\t114\n",
      "তো\t108\n",
      "ও\t90\n",
      "সব\t88\n",
      "\n",
      "Class Name :  Positive\n",
      "Number of Documents:1960\n",
      "Number of Words:16568\n",
      "Number of Unique Words:2338\n",
      "Most Frequent Words:\n",
      "\n",
      "অনেক\t477\n",
      "ভালো\t375\n",
      "সুন্দর\t356\n",
      "খুব\t227\n",
      "আপনার\t196\n",
      "জন্য\t188\n",
      "আপু\t152\n",
      "ধন্যবাদ\t145\n",
      "এই\t143\n",
      "না\t139\n",
      "Total Number of Unique Words:4792\n"
     ]
    }
   ],
   "source": [
    "def data_summary(dataset):\n",
    "    \n",
    "    documents = []\n",
    "    words = []\n",
    "    u_words = []\n",
    "    total_u_words = [word.strip().lower() for t in list(dataset.Cleaned) for word in t.strip().split()]\n",
    "    class_label= [k for k,v in dataset.Label.value_counts().to_dict().items()]\n",
    "    for label in class_label: \n",
    "        word_list = [word.strip().lower() for t in list(dataset[dataset.Label==label].Cleaned) for word in t.strip().split()]\n",
    "        counts = dict()\n",
    "        for word in word_list:\n",
    "                counts[word] = counts.get(word, 0)+1\n",
    "        ordered = sorted(counts.items(), key= lambda item: item[1],reverse = True)\n",
    "        documents.append(len(list(dataset[dataset.Label==label].Cleaned)))\n",
    "        words.append(len(word_list))\n",
    "        u_words.append(len(np.unique(word_list)))\n",
    "       \n",
    "        print(\"\\nClass Name : \",label)\n",
    "        print(\"Number of Documents:{}\".format(len(list(dataset[dataset.Label==label].Cleaned))))  \n",
    "        print(\"Number of Words:{}\".format(len(word_list))) \n",
    "        print(\"Number of Unique Words:{}\".format(len(np.unique(word_list)))) \n",
    "        print(\"Most Frequent Words:\\n\")\n",
    "        for k,v in ordered[:10]:\n",
    "              print(\"{}\\t{}\".format(k,v))\n",
    "    print(\"Total Number of Unique Words:{}\".format(len(np.unique(total_u_words))))           \n",
    "   \n",
    "    return documents,words,u_words,class_label\n",
    "\n",
    "documents,words,u_words,class_names = data_summary(dataset)   "
   ]
  },
  {
   "cell_type": "code",
   "execution_count": 9,
   "metadata": {
    "colab": {
     "base_uri": "https://localhost:8080/",
     "height": 433
    },
    "executionInfo": {
     "elapsed": 1214,
     "status": "ok",
     "timestamp": 1651426239830,
     "user": {
      "displayName": "kazi afrime",
      "userId": "17483685230346107889"
     },
     "user_tz": -360
    },
    "id": "EHjMU-oNwtxI",
    "outputId": "0d3bfb7f-fa20-4103-d63c-90fafddaebcf"
   },
   "outputs": [
    {
     "data": {
      "image/png": "[encoded data removed]",
      "text/plain": [
       "<Figure size 800x600 with 1 Axes>"
      ]
     },
     "metadata": {},
     "output_type": "display_data"
    }
   ],
   "source": [
    "data_matrix = pd.DataFrame({'Total Documents':documents,\n",
    "                            'Total Words':words,\n",
    "                            'Unique Words':u_words,\n",
    "                            'Class Names':class_names})\n",
    "df = pd.melt(data_matrix, id_vars=\"Class Names\", var_name=\"Category\", value_name=\"Values\")\n",
    "plt.figure(figsize=(8, 6))\n",
    "ax = plt.subplot()\n",
    "\n",
    "sns.barplot(data=df,x='Class Names', y='Values' ,hue='Category')\n",
    "ax.set_xlabel('Class Names') \n",
    "ax.set_title('Data Statistics')\n",
    "\n",
    "ax.xaxis.set_ticklabels(class_names, rotation=45);"
   ]
  },
  {
   "cell_type": "code",
   "execution_count": 10,
   "metadata": {
    "colab": {
     "base_uri": "https://localhost:8080/",
     "height": 347
    },
    "executionInfo": {
     "elapsed": 19,
     "status": "ok",
     "timestamp": 1651426239831,
     "user": {
      "displayName": "kazi afrime",
      "userId": "17483685230346107889"
     },
     "user_tz": -360
    },
    "id": "EF7OEoSsw2fK",
    "outputId": "b2c94a41-b9c5-4a9b-db98-855fc4901f62"
   },
   "outputs": [
    {
     "data": {
      "image/png": "[encoded data removed]",
      "text/plain": [
       "<Figure size 640x480 with 1 Axes>"
      ]
     },
     "metadata": {},
     "output_type": "display_data"
    },
    {
     "name": "stdout",
     "output_type": "stream",
     "text": [
      "Maximum Length of a Text: 43\n",
      "Minimum Length of a Text: 1\n",
      "Average Length of a Text: 8.0\n"
     ]
    }
   ],
   "source": [
    "# Calculate the Text of each of the Text\n",
    "dataset['TextLength'] = dataset.Cleaned.apply(lambda x:len(x.split()))\n",
    "frequency = dict()\n",
    "for i in dataset.TextLength:\n",
    "    frequency[i] = frequency.get(i, 0)+1\n",
    "\n",
    "plt.bar(frequency.keys(), frequency.values(), color =\"b\")\n",
    "plt.xlim(1, 135)\n",
    "plt.xlabel('Lenght of the Texts')\n",
    "plt.ylabel('Frequency')\n",
    "plt.title('Length-Frequency Distribution')\n",
    "plt.show()  \n",
    "print(f\"Maximum Length of a Text: {max(dataset.TextLength)}\")\n",
    "print(f\"Minimum Length of a Text: {min(dataset.TextLength)}\")\n",
    "print(f\"Average Length of a Text: {round(np.mean(dataset.TextLength),0)}\")"
   ]
  },
  {
   "cell_type": "code",
   "execution_count": 11,
   "metadata": {
    "colab": {
     "base_uri": "https://localhost:8080/",
     "height": 143
    },
    "executionInfo": {
     "elapsed": 18,
     "status": "ok",
     "timestamp": 1651426239832,
     "user": {
      "displayName": "kazi afrime",
      "userId": "17483685230346107889"
     },
     "user_tz": -360
    },
    "id": "hSNEu7w4w7fO",
    "outputId": "b3cde84a-170d-4b3b-cc4c-23cf851fc012"
   },
   "outputs": [
    {
     "data": {
      "text/html": [
       "<div>\n",
       "<style scoped>\n",
       "    .dataframe tbody tr th:only-of-type {\n",
       "        vertical-align: middle;\n",
       "    }\n",
       "\n",
       "    .dataframe tbody tr th {\n",
       "        vertical-align: top;\n",
       "    }\n",
       "\n",
       "    .dataframe thead th {\n",
       "        text-align: right;\n",
       "    }\n",
       "</style>\n",
       "<table border=\"1\" class=\"dataframe\">\n",
       "  <thead>\n",
       "    <tr style=\"text-align: right;\">\n",
       "      <th></th>\n",
       "      <th>Label</th>\n",
       "      <th>counts</th>\n",
       "    </tr>\n",
       "  </thead>\n",
       "  <tbody>\n",
       "    <tr>\n",
       "      <th>0</th>\n",
       "      <td>Negative</td>\n",
       "      <td>1960</td>\n",
       "    </tr>\n",
       "    <tr>\n",
       "      <th>1</th>\n",
       "      <td>Positive</td>\n",
       "      <td>1960</td>\n",
       "    </tr>\n",
       "  </tbody>\n",
       "</table>\n",
       "</div>"
      ],
      "text/plain": [
       "      Label  counts\n",
       "0  Negative    1960\n",
       "1  Positive    1960"
      ]
     },
     "execution_count": 11,
     "metadata": {},
     "output_type": "execute_result"
    }
   ],
   "source": [
    "dataset.groupby('Label').size().reset_index(name='counts')"
   ]
  },
  {
   "cell_type": "code",
   "execution_count": 12,
   "metadata": {
    "id": "62KABp4ow_BG"
   },
   "outputs": [],
   "source": [
    "#Label Encoding Function\n",
    "from sklearn.preprocessing import LabelEncoder\n",
    "from sklearn.feature_extraction.text import TfidfVectorizer\n",
    "from sklearn.model_selection import train_test_split\n",
    "\n",
    "def label_encoding(labels,bool):\n",
    "\n",
    "    le = LabelEncoder()\n",
    "    le.fit(labels)\n",
    "    encoded_labels = le.transform(labels)\n",
    "    labels = np.array(encoded_labels)\n",
    "    class_names =le.classes_ \n",
    "    if bool == True:\n",
    "        print(\"\\n\\t\\t\\t===== Label Encoding =====\",\"\\nClass Names:-->\",le.classes_)\n",
    "        for i in sample_data:\n",
    "            print(labels[i],' ', encoded_labels[i],'\\n')\n",
    "\n",
    "    return labels"
   ]
  },
  {
   "cell_type": "code",
   "execution_count": 13,
   "metadata": {
    "id": "VXP7EUiGxCaz"
   },
   "outputs": [],
   "source": [
    "#Dataset Splitting Function\n",
    "def dataset_split(texts,labels):\n",
    "\n",
    "    X_train,X_test,y_train,y_test = train_test_split(texts,\n",
    "                                                     labels,\n",
    "                                                     train_size = 0.8,\n",
    "                                                     test_size = 0.20,\n",
    "                                                     random_state =42,\n",
    "                                                     stratify=labels)\n",
    "    print(\"Feature Size :======>\",X_train.shape[1])\n",
    "    print(\"\\nDataset Distribution:\\n\")\n",
    "    print(\"\\tSet Name\",\"\\t\\tSize\")\n",
    "    print(\"\\t========\\t\\t======\")\n",
    "\n",
    "    print(\"\\tFull\\t\\t\\t\",texts.shape[0],\n",
    "        \"\\n\\tTraining\\t\\t\",X_train.shape[0],\n",
    "        \"\\n\\tTest\\t\\t\\t\",X_test.shape[0])\n",
    "  \n",
    "    return X_train,X_test,y_train,y_test\n"
   ]
  },
  {
   "cell_type": "code",
   "execution_count": 14,
   "metadata": {
    "id": "DW1HouO_xDid"
   },
   "outputs": [],
   "source": [
    "#tfidf gram calculation \n",
    "def calc_gram_tfidf(texts,gram):\n",
    "\n",
    "    tfidf = TfidfVectorizer(ngram_range=gram,use_idf=True,tokenizer=lambda x: x.split()) \n",
    "    X = tfidf.fit_transform(texts)\n",
    "    \n",
    "    return tfidf,X"
   ]
  },
  {
   "cell_type": "code",
   "execution_count": 15,
   "metadata": {
    "id": "L_SbAabFxGlk"
   },
   "outputs": [],
   "source": [
    "#Unigram Tf-idf value calculation\n",
    "def calc_unigram_tfidf(texts):\n",
    "    tfidf = TfidfVectorizer(use_idf=True,tokenizer=lambda x: x.split()) \n",
    "    X = tfidf.fit_transform(texts)\n",
    "    \n",
    "    return tfidf,X\n"
   ]
  },
  {
   "cell_type": "code",
   "execution_count": 16,
   "metadata": {
    "id": "NOpW7ShCxHVA"
   },
   "outputs": [],
   "source": [
    "#Bi-gram Tf-idf value calculation\n",
    "def calc_bigram_tfidf(texts):\n",
    "    tfidf = TfidfVectorizer(ngram_range=(1,2),use_idf=True,tokenizer=lambda x: x.split()) \n",
    "    X = tfidf.fit_transform(texts)\n",
    "    \n",
    "    return tfidf,X\n"
   ]
  },
  {
   "cell_type": "code",
   "execution_count": 17,
   "metadata": {
    "id": "uc3C0BYgxJmr"
   },
   "outputs": [],
   "source": [
    "#Tri-gram Tf-idf value calculation\n",
    "def calc_trigram_tfidf(texts):\n",
    "    tfidf = TfidfVectorizer(ngram_range=(1,3),use_idf=True,tokenizer=lambda x: x.split()) \n",
    "    X = tfidf.fit_transform(texts)\n",
    "    \n",
    "    return tfidf,X\n"
   ]
  },
  {
   "cell_type": "code",
   "execution_count": 18,
   "metadata": {
    "id": "gLCh-v7zxLGw"
   },
   "outputs": [],
   "source": [
    "from sklearn.linear_model import LogisticRegression\n",
    "from sklearn.tree import DecisionTreeClassifier\n",
    "from sklearn.ensemble import RandomForestClassifier\n",
    "from sklearn.naive_bayes import MultinomialNB\n",
    "from sklearn.neighbors import KNeighborsClassifier\n",
    "from sklearn.svm import SVC\n",
    "from sklearn.linear_model import SGDClassifier\n",
    "from sklearn.metrics import classification_report,accuracy_score,precision_score,recall_score,f1_score"
   ]
  },
  {
   "cell_type": "code",
   "execution_count": 19,
   "metadata": {
    "id": "1WFLpZwZxNV4"
   },
   "outputs": [],
   "source": [
    "def model_defination():\n",
    "    \n",
    "    lr_model = LogisticRegression(random_state = 123, \n",
    "                                  max_iter = 10000)\n",
    "    \n",
    "    dt_model = DecisionTreeClassifier(criterion = 'gini', \n",
    "                                      random_state = 0, \n",
    "                                      max_depth = 1, \n",
    "                                      min_samples_split = 25)\n",
    "    \n",
    "    rf_model = RandomForestClassifier(criterion ='entropy', \n",
    "                                      random_state = 13)\n",
    "    \n",
    "    mnb_model = MultinomialNB(alpha=0.431)\n",
    "    \n",
    "    knn_model = KNeighborsClassifier(n_neighbors=100, \n",
    "                                     metric = 'minkowski', \n",
    "                                     algorithm = 'ball_tree', \n",
    "                                     n_jobs = 10)\n",
    "    \n",
    "    lsvm_model = SVC(kernel = 'linear',\n",
    "                     C = 0.2, \n",
    "                     probability=True, \n",
    "                     random_state = 0)\n",
    "    \n",
    "    ksvm_model = SVC(C= 1000,\n",
    "                     kernel = 'rbf',\n",
    "                     probability=True, \n",
    "                     gamma = 0.00015, \n",
    "                     random_state = 0)\n",
    "    \n",
    "    sgd_model = SGDClassifier(loss ='log',\n",
    "                              penalty='l2', \n",
    "                              max_iter=5)\n",
    "    \n",
    "    model_names = ['Logistic Regression','Decision Tree','Random Forest','Naive Bayes','KNN','Linear SVM','Kernel SVM','SGD']\n",
    "    ml_models = [lr_model,dt_model,rf_model,mnb_model,knn_model,lsvm_model,ksvm_model,sgd_model]\n",
    "    \n",
    "    return ml_models,model_names"
   ]
  },
  {
   "cell_type": "code",
   "execution_count": 20,
   "metadata": {
    "id": "-kbEoClMxPCP"
   },
   "outputs": [],
   "source": [
    "def model_performace(model,X_train,X_test,y_train,y_test):\n",
    "    \n",
    "    my_dict = {}\n",
    "    model.fit(X_train,y_train)\n",
    "    pred_y = model.predict(X_test)\n",
    "    my_dict['Accuracy'] = round(accuracy_score(y_test, pred_y),4)*100 \n",
    "    my_dict['Precision'] = round(precision_score(y_test, pred_y,average='micro'),4)*100 \n",
    "    my_dict['Recall'] = round(recall_score(y_test, pred_y,average='micro'),4)*100 \n",
    "    my_dict['F1 Score'] = round(f1_score(y_test, pred_y,average='micro'),4)*100 \n",
    "    \n",
    "    return my_dict  "
   ]
  },
  {
   "cell_type": "code",
   "execution_count": 21,
   "metadata": {
    "id": "zFB-3luexR-2"
   },
   "outputs": [],
   "source": [
    "def performance_table(performance_dict):\n",
    "\n",
    "    acc_list = []\n",
    "    pr_list = []\n",
    "    re_list = []\n",
    "    f1_list = []\n",
    "    for i in performance_dict.keys():\n",
    "        acc_list.append(performance_dict[i]['Accuracy'])\n",
    "        pr_list.append(performance_dict[i]['Precision'])\n",
    "        re_list.append(performance_dict[i]['Recall'])\n",
    "        f1_list.append(performance_dict[i]['F1 Score'])\n",
    "\n",
    "    performance_df = pd.DataFrame({'Accuracy':acc_list,\n",
    "                                   'Precision':pr_list,\n",
    "                                   'Recall':re_list,\n",
    "                                   'F1 Score':f1_list},\n",
    "                                  index =['LR','DT','RF','MNB','KNN','Linear SVM','RBF SVM','SGD'])\n",
    "    performance_df.style.highlight_max(color = 'lightgreen', axis = 0)\n",
    "    return performance_df"
   ]
  },
  {
   "cell_type": "code",
   "execution_count": 22,
   "metadata": {
    "id": "ULPwQjgzxatR"
   },
   "outputs": [],
   "source": [
    "path = \"json/\""
   ]
  },
  {
   "cell_type": "code",
   "execution_count": 23,
   "metadata": {
    "colab": {
     "base_uri": "https://localhost:8080/"
    },
    "executionInfo": {
     "elapsed": 218858,
     "status": "ok",
     "timestamp": 1651426458677,
     "user": {
      "displayName": "kazi afrime",
      "userId": "17483685230346107889"
     },
     "user_tz": -360
    },
    "id": "Od0oZGSHxf6Z",
    "outputId": "53ed64c5-609b-4aed-ed1c-6dd7333ffeb6"
   },
   "outputs": [
    {
     "name": "stderr",
     "output_type": "stream",
     "text": [
      "C:\\Users\\Afrime Araf\\.conda\\envs\\tensorflow_gpu\\lib\\site-packages\\sklearn\\feature_extraction\\text.py:528: UserWarning: The parameter 'token_pattern' will not be used since 'tokenizer' is not None'\n",
      "  warnings.warn(\n"
     ]
    },
    {
     "name": "stdout",
     "output_type": "stream",
     "text": [
      "Feature Size :======> 5451\n",
      "\n",
      "Dataset Distribution:\n",
      "\n",
      "\tSet Name \t\tSize\n",
      "\t========\t\t======\n",
      "\tFull\t\t\t 3920 \n",
      "\tTraining\t\t 3136 \n",
      "\tTest\t\t\t 784\n"
     ]
    },
    {
     "name": "stderr",
     "output_type": "stream",
     "text": [
      "C:\\Users\\Afrime Araf\\.conda\\envs\\tensorflow_gpu\\lib\\site-packages\\sklearn\\neighbors\\_base.py:557: UserWarning: cannot use tree with sparse input: using brute force\n",
      "  warnings.warn(\"cannot use tree with sparse input: using brute force\")\n",
      "C:\\Users\\Afrime Araf\\.conda\\envs\\tensorflow_gpu\\lib\\site-packages\\sklearn\\linear_model\\_stochastic_gradient.py:165: FutureWarning: The loss 'log' was deprecated in v1.1 and will be removed in version 1.3. Use `loss='log_loss'` which is equivalent.\n",
      "  warnings.warn(\n",
      "C:\\Users\\Afrime Araf\\.conda\\envs\\tensorflow_gpu\\lib\\site-packages\\sklearn\\linear_model\\_stochastic_gradient.py:704: ConvergenceWarning: Maximum number of iteration reached before convergence. Consider increasing max_iter to improve the fit.\n",
      "  warnings.warn(\n",
      "C:\\Users\\Afrime Araf\\.conda\\envs\\tensorflow_gpu\\lib\\site-packages\\sklearn\\feature_extraction\\text.py:528: UserWarning: The parameter 'token_pattern' will not be used since 'tokenizer' is not None'\n",
      "  warnings.warn(\n"
     ]
    },
    {
     "name": "stdout",
     "output_type": "stream",
     "text": [
      "Feature Size :======> 17544\n",
      "\n",
      "Dataset Distribution:\n",
      "\n",
      "\tSet Name \t\tSize\n",
      "\t========\t\t======\n",
      "\tFull\t\t\t 3920 \n",
      "\tTraining\t\t 3136 \n",
      "\tTest\t\t\t 784\n"
     ]
    },
    {
     "name": "stderr",
     "output_type": "stream",
     "text": [
      "C:\\Users\\Afrime Araf\\.conda\\envs\\tensorflow_gpu\\lib\\site-packages\\sklearn\\neighbors\\_base.py:557: UserWarning: cannot use tree with sparse input: using brute force\n",
      "  warnings.warn(\"cannot use tree with sparse input: using brute force\")\n",
      "C:\\Users\\Afrime Araf\\.conda\\envs\\tensorflow_gpu\\lib\\site-packages\\sklearn\\linear_model\\_stochastic_gradient.py:165: FutureWarning: The loss 'log' was deprecated in v1.1 and will be removed in version 1.3. Use `loss='log_loss'` which is equivalent.\n",
      "  warnings.warn(\n",
      "C:\\Users\\Afrime Araf\\.conda\\envs\\tensorflow_gpu\\lib\\site-packages\\sklearn\\linear_model\\_stochastic_gradient.py:704: ConvergenceWarning: Maximum number of iteration reached before convergence. Consider increasing max_iter to improve the fit.\n",
      "  warnings.warn(\n",
      "C:\\Users\\Afrime Araf\\.conda\\envs\\tensorflow_gpu\\lib\\site-packages\\sklearn\\feature_extraction\\text.py:528: UserWarning: The parameter 'token_pattern' will not be used since 'tokenizer' is not None'\n",
      "  warnings.warn(\n"
     ]
    },
    {
     "name": "stdout",
     "output_type": "stream",
     "text": [
      "Feature Size :======> 29111\n",
      "\n",
      "Dataset Distribution:\n",
      "\n",
      "\tSet Name \t\tSize\n",
      "\t========\t\t======\n",
      "\tFull\t\t\t 3920 \n",
      "\tTraining\t\t 3136 \n",
      "\tTest\t\t\t 784\n"
     ]
    },
    {
     "name": "stderr",
     "output_type": "stream",
     "text": [
      "C:\\Users\\Afrime Araf\\.conda\\envs\\tensorflow_gpu\\lib\\site-packages\\sklearn\\neighbors\\_base.py:557: UserWarning: cannot use tree with sparse input: using brute force\n",
      "  warnings.warn(\"cannot use tree with sparse input: using brute force\")\n",
      "C:\\Users\\Afrime Araf\\.conda\\envs\\tensorflow_gpu\\lib\\site-packages\\sklearn\\linear_model\\_stochastic_gradient.py:165: FutureWarning: The loss 'log' was deprecated in v1.1 and will be removed in version 1.3. Use `loss='log_loss'` which is equivalent.\n",
      "  warnings.warn(\n",
      "C:\\Users\\Afrime Araf\\.conda\\envs\\tensorflow_gpu\\lib\\site-packages\\sklearn\\linear_model\\_stochastic_gradient.py:704: ConvergenceWarning: Maximum number of iteration reached before convergence. Consider increasing max_iter to improve the fit.\n",
      "  warnings.warn(\n"
     ]
    }
   ],
   "source": [
    "## save the performance of the model for each gram feature \n",
    "\n",
    "import json\n",
    "\n",
    "gram_names = ['Unigram','Bigram','Trigram']\n",
    "ngrams = [(1,1),(1,2),(1,3)]\n",
    "\n",
    "for i,gram in enumerate(ngrams):\n",
    "    \n",
    "    tfidf,feature = calc_gram_tfidf(dataset.Text,gram)\n",
    "    \n",
    "    labels = label_encoding(dataset.Label,False)\n",
    "    \n",
    "    X_train,X_test,y_train,y_test = dataset_split(feature,labels) \n",
    "    \n",
    "    ml_models,model_names = model_defination()\n",
    "    \n",
    "    accuracy = {f'{model_names[j]}':model_performace(model,X_train,X_test,y_train,y_test) for j,model in enumerate(ml_models)}\n",
    "\n",
    "    with open(path+f'ml_performance_{gram_names[i]}.json', 'w') as f:\n",
    "          json.dump(accuracy, f)"
   ]
  },
  {
   "cell_type": "code",
   "execution_count": 24,
   "metadata": {
    "colab": {
     "base_uri": "https://localhost:8080/",
     "height": 300
    },
    "executionInfo": {
     "elapsed": 13,
     "status": "ok",
     "timestamp": 1651426458678,
     "user": {
      "displayName": "kazi afrime",
      "userId": "17483685230346107889"
     },
     "user_tz": -360
    },
    "id": "0W_kYi64xjhW",
    "outputId": "641beee6-e360-47e8-b7ef-2f071f9298d7"
   },
   "outputs": [
    {
     "data": {
      "text/html": [
       "<div>\n",
       "<style scoped>\n",
       "    .dataframe tbody tr th:only-of-type {\n",
       "        vertical-align: middle;\n",
       "    }\n",
       "\n",
       "    .dataframe tbody tr th {\n",
       "        vertical-align: top;\n",
       "    }\n",
       "\n",
       "    .dataframe thead th {\n",
       "        text-align: right;\n",
       "    }\n",
       "</style>\n",
       "<table border=\"1\" class=\"dataframe\">\n",
       "  <thead>\n",
       "    <tr style=\"text-align: right;\">\n",
       "      <th></th>\n",
       "      <th>Accuracy</th>\n",
       "      <th>Precision</th>\n",
       "      <th>Recall</th>\n",
       "      <th>F1 Score</th>\n",
       "    </tr>\n",
       "  </thead>\n",
       "  <tbody>\n",
       "    <tr>\n",
       "      <th>LR</th>\n",
       "      <td>92.60</td>\n",
       "      <td>92.60</td>\n",
       "      <td>92.60</td>\n",
       "      <td>92.60</td>\n",
       "    </tr>\n",
       "    <tr>\n",
       "      <th>DT</th>\n",
       "      <td>60.20</td>\n",
       "      <td>60.20</td>\n",
       "      <td>60.20</td>\n",
       "      <td>60.20</td>\n",
       "    </tr>\n",
       "    <tr>\n",
       "      <th>RF</th>\n",
       "      <td>96.30</td>\n",
       "      <td>96.30</td>\n",
       "      <td>96.30</td>\n",
       "      <td>96.30</td>\n",
       "    </tr>\n",
       "    <tr>\n",
       "      <th>MNB</th>\n",
       "      <td>96.30</td>\n",
       "      <td>96.30</td>\n",
       "      <td>96.30</td>\n",
       "      <td>96.30</td>\n",
       "    </tr>\n",
       "    <tr>\n",
       "      <th>KNN</th>\n",
       "      <td>79.85</td>\n",
       "      <td>79.85</td>\n",
       "      <td>79.85</td>\n",
       "      <td>79.85</td>\n",
       "    </tr>\n",
       "    <tr>\n",
       "      <th>Linear SVM</th>\n",
       "      <td>87.37</td>\n",
       "      <td>87.37</td>\n",
       "      <td>87.37</td>\n",
       "      <td>87.37</td>\n",
       "    </tr>\n",
       "    <tr>\n",
       "      <th>RBF SVM</th>\n",
       "      <td>91.07</td>\n",
       "      <td>91.07</td>\n",
       "      <td>91.07</td>\n",
       "      <td>91.07</td>\n",
       "    </tr>\n",
       "    <tr>\n",
       "      <th>SGD</th>\n",
       "      <td>95.79</td>\n",
       "      <td>95.79</td>\n",
       "      <td>95.79</td>\n",
       "      <td>95.79</td>\n",
       "    </tr>\n",
       "  </tbody>\n",
       "</table>\n",
       "</div>"
      ],
      "text/plain": [
       "            Accuracy  Precision  Recall  F1 Score\n",
       "LR             92.60      92.60   92.60     92.60\n",
       "DT             60.20      60.20   60.20     60.20\n",
       "RF             96.30      96.30   96.30     96.30\n",
       "MNB            96.30      96.30   96.30     96.30\n",
       "KNN            79.85      79.85   79.85     79.85\n",
       "Linear SVM     87.37      87.37   87.37     87.37\n",
       "RBF SVM        91.07      91.07   91.07     91.07\n",
       "SGD            95.79      95.79   95.79     95.79"
      ]
     },
     "execution_count": 24,
     "metadata": {},
     "output_type": "execute_result"
    }
   ],
   "source": [
    "accuracy1 = json.load(open('json/ml_performance_Unigram.json'))\n",
    "table = performance_table(accuracy1)\n",
    "table"
   ]
  },
  {
   "cell_type": "code",
   "execution_count": 25,
   "metadata": {},
   "outputs": [
    {
     "name": "stdout",
     "output_type": "stream",
     "text": [
      "Highest Accuracy achieved by RF at = 96.3\n",
      "Highest F1-Score achieved by RF at = 96.3\n",
      "Highest Precision Score achieved by RF at = 96.3\n",
      "Highest Recall Score achieved by RF at = 96.3\n"
     ]
    }
   ],
   "source": [
    "print(f\"Highest Accuracy achieved by {table.Accuracy.idxmax(axis = 0)} at = {max(table.Accuracy)}\")\n",
    "print(f\"Highest F1-Score achieved by {table['F1 Score'].idxmax(axis = 0)} at = {max(table['F1 Score'] )}\")\n",
    "print(f\"Highest Precision Score achieved by {table['Precision'].idxmax(axis = 0)} at = {max(table['Precision'] )}\")\n",
    "print(f\"Highest Recall Score achieved by {table['Recall'].idxmax(axis = 0)} at = {max(table['Recall'] )}\")"
   ]
  },
  {
   "cell_type": "code",
   "execution_count": 26,
   "metadata": {},
   "outputs": [
    {
     "data": {
      "text/html": [
       "<div>\n",
       "<style scoped>\n",
       "    .dataframe tbody tr th:only-of-type {\n",
       "        vertical-align: middle;\n",
       "    }\n",
       "\n",
       "    .dataframe tbody tr th {\n",
       "        vertical-align: top;\n",
       "    }\n",
       "\n",
       "    .dataframe thead th {\n",
       "        text-align: right;\n",
       "    }\n",
       "</style>\n",
       "<table border=\"1\" class=\"dataframe\">\n",
       "  <thead>\n",
       "    <tr style=\"text-align: right;\">\n",
       "      <th></th>\n",
       "      <th>Accuracy</th>\n",
       "      <th>Precision</th>\n",
       "      <th>Recall</th>\n",
       "      <th>F1 Score</th>\n",
       "    </tr>\n",
       "  </thead>\n",
       "  <tbody>\n",
       "    <tr>\n",
       "      <th>LR</th>\n",
       "      <td>93.62</td>\n",
       "      <td>93.62</td>\n",
       "      <td>93.62</td>\n",
       "      <td>93.62</td>\n",
       "    </tr>\n",
       "    <tr>\n",
       "      <th>DT</th>\n",
       "      <td>60.20</td>\n",
       "      <td>60.20</td>\n",
       "      <td>60.20</td>\n",
       "      <td>60.20</td>\n",
       "    </tr>\n",
       "    <tr>\n",
       "      <th>RF</th>\n",
       "      <td>96.30</td>\n",
       "      <td>96.30</td>\n",
       "      <td>96.30</td>\n",
       "      <td>96.30</td>\n",
       "    </tr>\n",
       "    <tr>\n",
       "      <th>MNB</th>\n",
       "      <td>97.07</td>\n",
       "      <td>97.07</td>\n",
       "      <td>97.07</td>\n",
       "      <td>97.07</td>\n",
       "    </tr>\n",
       "    <tr>\n",
       "      <th>KNN</th>\n",
       "      <td>76.40</td>\n",
       "      <td>76.40</td>\n",
       "      <td>76.40</td>\n",
       "      <td>76.40</td>\n",
       "    </tr>\n",
       "    <tr>\n",
       "      <th>Linear SVM</th>\n",
       "      <td>85.84</td>\n",
       "      <td>85.84</td>\n",
       "      <td>85.84</td>\n",
       "      <td>85.84</td>\n",
       "    </tr>\n",
       "    <tr>\n",
       "      <th>RBF SVM</th>\n",
       "      <td>91.33</td>\n",
       "      <td>91.33</td>\n",
       "      <td>91.33</td>\n",
       "      <td>91.33</td>\n",
       "    </tr>\n",
       "    <tr>\n",
       "      <th>SGD</th>\n",
       "      <td>96.05</td>\n",
       "      <td>96.05</td>\n",
       "      <td>96.05</td>\n",
       "      <td>96.05</td>\n",
       "    </tr>\n",
       "  </tbody>\n",
       "</table>\n",
       "</div>"
      ],
      "text/plain": [
       "            Accuracy  Precision  Recall  F1 Score\n",
       "LR             93.62      93.62   93.62     93.62\n",
       "DT             60.20      60.20   60.20     60.20\n",
       "RF             96.30      96.30   96.30     96.30\n",
       "MNB            97.07      97.07   97.07     97.07\n",
       "KNN            76.40      76.40   76.40     76.40\n",
       "Linear SVM     85.84      85.84   85.84     85.84\n",
       "RBF SVM        91.33      91.33   91.33     91.33\n",
       "SGD            96.05      96.05   96.05     96.05"
      ]
     },
     "execution_count": 26,
     "metadata": {},
     "output_type": "execute_result"
    }
   ],
   "source": [
    "accuracy2 = json.load(open('json/ml_performance_Bigram.json'))\n",
    "table2 = performance_table(accuracy2)\n",
    "table2"
   ]
  },
  {
   "cell_type": "code",
   "execution_count": 27,
   "metadata": {},
   "outputs": [
    {
     "name": "stdout",
     "output_type": "stream",
     "text": [
      "Highest Accuracy achieved by MNB at = 97.07000000000001\n",
      "Highest F1-Score achieved by MNB at = 97.07000000000001\n",
      "Highest Precision Score achieved by MNB at = 97.07000000000001\n",
      "Highest Recall Score achieved by MNB at = 96.3\n"
     ]
    }
   ],
   "source": [
    "print(f\"Highest Accuracy achieved by {table2.Accuracy.idxmax(axis = 0)} at = {max(table2.Accuracy)}\")\n",
    "print(f\"Highest F1-Score achieved by {table2['F1 Score'].idxmax(axis = 0)} at = {max(table2['F1 Score'] )}\")\n",
    "print(f\"Highest Precision Score achieved by {table2['Precision'].idxmax(axis = 0)} at = {max(table2['Precision'] )}\")\n",
    "print(f\"Highest Recall Score achieved by {table2['Recall'].idxmax(axis = 0)} at = {max(table['Recall'] )}\")"
   ]
  },
  {
   "cell_type": "code",
   "execution_count": 28,
   "metadata": {},
   "outputs": [
    {
     "data": {
      "text/html": [
       "<div>\n",
       "<style scoped>\n",
       "    .dataframe tbody tr th:only-of-type {\n",
       "        vertical-align: middle;\n",
       "    }\n",
       "\n",
       "    .dataframe tbody tr th {\n",
       "        vertical-align: top;\n",
       "    }\n",
       "\n",
       "    .dataframe thead th {\n",
       "        text-align: right;\n",
       "    }\n",
       "</style>\n",
       "<table border=\"1\" class=\"dataframe\">\n",
       "  <thead>\n",
       "    <tr style=\"text-align: right;\">\n",
       "      <th></th>\n",
       "      <th>Accuracy</th>\n",
       "      <th>Precision</th>\n",
       "      <th>Recall</th>\n",
       "      <th>F1 Score</th>\n",
       "    </tr>\n",
       "  </thead>\n",
       "  <tbody>\n",
       "    <tr>\n",
       "      <th>LR</th>\n",
       "      <td>94.13</td>\n",
       "      <td>94.13</td>\n",
       "      <td>94.13</td>\n",
       "      <td>94.13</td>\n",
       "    </tr>\n",
       "    <tr>\n",
       "      <th>DT</th>\n",
       "      <td>57.78</td>\n",
       "      <td>57.78</td>\n",
       "      <td>57.78</td>\n",
       "      <td>57.78</td>\n",
       "    </tr>\n",
       "    <tr>\n",
       "      <th>RF</th>\n",
       "      <td>96.17</td>\n",
       "      <td>96.17</td>\n",
       "      <td>96.17</td>\n",
       "      <td>96.17</td>\n",
       "    </tr>\n",
       "    <tr>\n",
       "      <th>MNB</th>\n",
       "      <td>97.19</td>\n",
       "      <td>97.19</td>\n",
       "      <td>97.19</td>\n",
       "      <td>97.19</td>\n",
       "    </tr>\n",
       "    <tr>\n",
       "      <th>KNN</th>\n",
       "      <td>82.78</td>\n",
       "      <td>82.78</td>\n",
       "      <td>82.78</td>\n",
       "      <td>82.78</td>\n",
       "    </tr>\n",
       "    <tr>\n",
       "      <th>Linear SVM</th>\n",
       "      <td>84.06</td>\n",
       "      <td>84.06</td>\n",
       "      <td>84.06</td>\n",
       "      <td>84.06</td>\n",
       "    </tr>\n",
       "    <tr>\n",
       "      <th>RBF SVM</th>\n",
       "      <td>91.33</td>\n",
       "      <td>91.33</td>\n",
       "      <td>91.33</td>\n",
       "      <td>91.33</td>\n",
       "    </tr>\n",
       "    <tr>\n",
       "      <th>SGD</th>\n",
       "      <td>96.43</td>\n",
       "      <td>96.43</td>\n",
       "      <td>96.43</td>\n",
       "      <td>96.43</td>\n",
       "    </tr>\n",
       "  </tbody>\n",
       "</table>\n",
       "</div>"
      ],
      "text/plain": [
       "            Accuracy  Precision  Recall  F1 Score\n",
       "LR             94.13      94.13   94.13     94.13\n",
       "DT             57.78      57.78   57.78     57.78\n",
       "RF             96.17      96.17   96.17     96.17\n",
       "MNB            97.19      97.19   97.19     97.19\n",
       "KNN            82.78      82.78   82.78     82.78\n",
       "Linear SVM     84.06      84.06   84.06     84.06\n",
       "RBF SVM        91.33      91.33   91.33     91.33\n",
       "SGD            96.43      96.43   96.43     96.43"
      ]
     },
     "execution_count": 28,
     "metadata": {},
     "output_type": "execute_result"
    }
   ],
   "source": [
    "accuracy3 = json.load(open('json/ml_performance_Trigram.json'))\n",
    "table3 = performance_table(accuracy3)\n",
    "table3"
   ]
  },
  {
   "cell_type": "code",
   "execution_count": 29,
   "metadata": {},
   "outputs": [
    {
     "name": "stdout",
     "output_type": "stream",
     "text": [
      "Highest Accuracy achieved by MNB at = 97.19\n",
      "Highest F1-Score achieved by MNB at = 97.19\n",
      "Highest Precision Score achieved by MNB at = 97.19\n",
      "Highest Recall Score achieved by MNB at = 97.19\n"
     ]
    }
   ],
   "source": [
    "print(f\"Highest Accuracy achieved by {table3.Accuracy.idxmax(axis = 0)} at = {max(table3.Accuracy)}\")\n",
    "print(f\"Highest F1-Score achieved by {table3['F1 Score'].idxmax(axis = 0)} at = {max(table3['F1 Score'] )}\")\n",
    "print(f\"Highest Precision Score achieved by {table3['Precision'].idxmax(axis = 0)} at = {max(table3['Precision'] )}\")\n",
    "print(f\"Highest Recall Score achieved by {table3['Recall'].idxmax(axis = 0)} at = {max(table3['Recall'] )}\")"
   ]
  },
  {
   "cell_type": "markdown",
   "metadata": {},
   "source": [
    "# Final Model\n",
    "\n",
    " - Selected feature: Trigram\n",
    " - Selected model: MultinomialNB"
   ]
  },
  {
   "cell_type": "code",
   "execution_count": 30,
   "metadata": {},
   "outputs": [
    {
     "name": "stderr",
     "output_type": "stream",
     "text": [
      "C:\\Users\\Afrime Araf\\.conda\\envs\\tensorflow_gpu\\lib\\site-packages\\sklearn\\feature_extraction\\text.py:528: UserWarning: The parameter 'token_pattern' will not be used since 'tokenizer' is not None'\n",
      "  warnings.warn(\n"
     ]
    },
    {
     "name": "stdout",
     "output_type": "stream",
     "text": [
      "Feature Size :======> 28417\n",
      "\n",
      "Dataset Distribution:\n",
      "\n",
      "\tSet Name \t\tSize\n",
      "\t========\t\t======\n",
      "\tFull\t\t\t 3920 \n",
      "\tTraining\t\t 3136 \n",
      "\tTest\t\t\t 784\n"
     ]
    }
   ],
   "source": [
    "# calculate the Tri-gram Tf-idf feature\n",
    "cv,feature = calc_trigram_tfidf(dataset.Cleaned)\n",
    "\n",
    "lables = label_encoding(dataset.Label,False)\n",
    "\n",
    "X_train,X_test,y_train,y_test = dataset_split(texts=feature,labels=lables)"
   ]
  },
  {
   "cell_type": "code",
   "execution_count": 31,
   "metadata": {},
   "outputs": [
    {
     "data": {
      "text/html": [
       "<style>#sk-container-id-1 {color: black;background-color: white;}#sk-container-id-1 pre{padding: 0;}#sk-container-id-1 div.sk-toggleable {background-color: white;}#sk-container-id-1 label.sk-toggleable__label {cursor: pointer;display: block;width: 100%;margin-bottom: 0;padding: 0.3em;box-sizing: border-box;text-align: center;}#sk-container-id-1 label.sk-toggleable__label-arrow:before {content: \"▸\";float: left;margin-right: 0.25em;color: #696969;}#sk-container-id-1 label.sk-toggleable__label-arrow:hover:before {color: black;}#sk-container-id-1 div.sk-estimator:hover label.sk-toggleable__label-arrow:before {color: black;}#sk-container-id-1 div.sk-toggleable__content {max-height: 0;max-width: 0;overflow: hidden;text-align: left;background-color: #f0f8ff;}#sk-container-id-1 div.sk-toggleable__content pre {margin: 0.2em;color: black;border-radius: 0.25em;background-color: #f0f8ff;}#sk-container-id-1 input.sk-toggleable__control:checked~div.sk-toggleable__content {max-height: 200px;max-width: 100%;overflow: auto;}#sk-container-id-1 input.sk-toggleable__control:checked~label.sk-toggleable__label-arrow:before {content: \"▾\";}#sk-container-id-1 div.sk-estimator input.sk-toggleable__control:checked~label.sk-toggleable__label {background-color: #d4ebff;}#sk-container-id-1 div.sk-label input.sk-toggleable__control:checked~label.sk-toggleable__label {background-color: #d4ebff;}#sk-container-id-1 input.sk-hidden--visually {border: 0;clip: rect(1px 1px 1px 1px);clip: rect(1px, 1px, 1px, 1px);height: 1px;margin: -1px;overflow: hidden;padding: 0;position: absolute;width: 1px;}#sk-container-id-1 div.sk-estimator {font-family: monospace;background-color: #f0f8ff;border: 1px dotted black;border-radius: 0.25em;box-sizing: border-box;margin-bottom: 0.5em;}#sk-container-id-1 div.sk-estimator:hover {background-color: #d4ebff;}#sk-container-id-1 div.sk-parallel-item::after {content: \"\";width: 100%;border-bottom: 1px solid gray;flex-grow: 1;}#sk-container-id-1 div.sk-label:hover label.sk-toggleable__label {background-color: #d4ebff;}#sk-container-id-1 div.sk-serial::before {content: \"\";position: absolute;border-left: 1px solid gray;box-sizing: border-box;top: 0;bottom: 0;left: 50%;z-index: 0;}#sk-container-id-1 div.sk-serial {display: flex;flex-direction: column;align-items: center;background-color: white;padding-right: 0.2em;padding-left: 0.2em;position: relative;}#sk-container-id-1 div.sk-item {position: relative;z-index: 1;}#sk-container-id-1 div.sk-parallel {display: flex;align-items: stretch;justify-content: center;background-color: white;position: relative;}#sk-container-id-1 div.sk-item::before, #sk-container-id-1 div.sk-parallel-item::before {content: \"\";position: absolute;border-left: 1px solid gray;box-sizing: border-box;top: 0;bottom: 0;left: 50%;z-index: -1;}#sk-container-id-1 div.sk-parallel-item {display: flex;flex-direction: column;z-index: 1;position: relative;background-color: white;}#sk-container-id-1 div.sk-parallel-item:first-child::after {align-self: flex-end;width: 50%;}#sk-container-id-1 div.sk-parallel-item:last-child::after {align-self: flex-start;width: 50%;}#sk-container-id-1 div.sk-parallel-item:only-child::after {width: 0;}#sk-container-id-1 div.sk-dashed-wrapped {border: 1px dashed gray;margin: 0 0.4em 0.5em 0.4em;box-sizing: border-box;padding-bottom: 0.4em;background-color: white;}#sk-container-id-1 div.sk-label label {font-family: monospace;font-weight: bold;display: inline-block;line-height: 1.2em;}#sk-container-id-1 div.sk-label-container {text-align: center;}#sk-container-id-1 div.sk-container {/* jupyter's `normalize.less` sets `[hidden] { display: none; }` but bootstrap.min.css set `[hidden] { display: none !important; }` so we also need the `!important` here to be able to override the default hidden behavior on the sphinx rendered scikit-learn.org. See: https://github.com/scikit-learn/scikit-learn/issues/21755 */display: inline-block !important;position: relative;}#sk-container-id-1 div.sk-text-repr-fallback {display: none;}</style><div id=\"sk-container-id-1\" class=\"sk-top-container\"><div class=\"sk-text-repr-fallback\"><pre>MultinomialNB(alpha=0.431)</pre><b>In a Jupyter environment, please rerun this cell to show the HTML representation or trust the notebook. <br />On GitHub, the HTML representation is unable to render, please try loading this page with nbviewer.org.</b></div><div class=\"sk-container\" hidden><div class=\"sk-item\"><div class=\"sk-estimator sk-toggleable\"><input class=\"sk-toggleable__control sk-hidden--visually\" id=\"sk-estimator-id-1\" type=\"checkbox\" checked><label for=\"sk-estimator-id-1\" class=\"sk-toggleable__label sk-toggleable__label-arrow\">MultinomialNB</label><div class=\"sk-toggleable__content\"><pre>MultinomialNB(alpha=0.431)</pre></div></div></div></div></div>"
      ],
      "text/plain": [
       "MultinomialNB(alpha=0.431)"
      ]
     },
     "execution_count": 31,
     "metadata": {},
     "output_type": "execute_result"
    }
   ],
   "source": [
    "classifier1 = MultinomialNB(alpha=0.431)\n",
    "classifier1.fit(X_train, y_train)"
   ]
  },
  {
   "cell_type": "code",
   "execution_count": 32,
   "metadata": {},
   "outputs": [
    {
     "data": {
      "text/plain": [
       "array([0, 1, 0, 0, 1, 0, 0, 0, 0, 1])"
      ]
     },
     "execution_count": 32,
     "metadata": {},
     "output_type": "execute_result"
    }
   ],
   "source": [
    "y_pred = classifier1.predict(X_test)\n",
    "y_pred[:10]"
   ]
  },
  {
   "cell_type": "code",
   "execution_count": 33,
   "metadata": {},
   "outputs": [
    {
     "name": "stdout",
     "output_type": "stream",
     "text": [
      "Train Accuracy is: 100.0%\n",
      "Test Accuracy is : 97.19%\n"
     ]
    }
   ],
   "source": [
    "print(f\"Train Accuracy is: {round(classifier1.score(X_train, y_train)*100,2)}%\")\n",
    "print(f\"Test Accuracy is : {round(classifier1.score(X_test, y_test)*100,2)}%\")"
   ]
  },
  {
   "cell_type": "code",
   "execution_count": 34,
   "metadata": {},
   "outputs": [
    {
     "name": "stdout",
     "output_type": "stream",
     "text": [
      "              precision    recall  f1-score   support\n",
      "\n",
      "           0       0.98      0.96      0.97       392\n",
      "           1       0.96      0.98      0.97       392\n",
      "\n",
      "    accuracy                           0.97       784\n",
      "   macro avg       0.97      0.97      0.97       784\n",
      "weighted avg       0.97      0.97      0.97       784\n",
      "\n"
     ]
    }
   ],
   "source": [
    "from sklearn.metrics import classification_report,confusion_matrix\n",
    "print(classification_report(y_test,y_pred))"
   ]
  },
  {
   "cell_type": "code",
   "execution_count": 35,
   "metadata": {},
   "outputs": [
    {
     "data": {
      "image/png": "[encoded data removed]",
      "text/plain": [
       "<Figure size 500x500 with 2 Axes>"
      ]
     },
     "metadata": {},
     "output_type": "display_data"
    }
   ],
   "source": [
    "conf_mat = confusion_matrix(y_test,y_pred)\n",
    "fig, ax = plt.subplots(figsize=(5,5))\n",
    "sns.heatmap(conf_mat, annot=True, fmt='d',cmap='Blues')\n",
    "plt.ylabel('Actual')\n",
    "plt.xlabel('Predicted')\n",
    "plt.show()"
   ]
  },
  {
   "cell_type": "code",
   "execution_count": null,
   "metadata": {},
   "outputs": [],
   "source": []
  }
 ],
 "metadata": {
  "colab": {
   "authorship_tag": "ABX9TyPYZuCZyzwssxg+rl/4DPNa",
   "collapsed_sections": [],
   "mount_file_id": "1Gr0OwHWAuCy7dQL5oYW572CwJjwTEqpS",
   "name": "BA_text_main_ML.ipynb",
   "provenance": []
  },
  "kernelspec": {
   "display_name": "Python 3 (ipykernel)",
   "language": "python",
   "name": "python3"
  },
  "language_info": {
   "codemirror_mode": {
    "name": "ipython",
    "version": 3
   },
   "file_extension": ".py",
   "mimetype": "text/x-python",
   "name": "python",
   "nbconvert_exporter": "python",
   "pygments_lexer": "ipython3",
   "version": "3.10.9"
  }
 },
 "nbformat": 4,
 "nbformat_minor": 1
}
