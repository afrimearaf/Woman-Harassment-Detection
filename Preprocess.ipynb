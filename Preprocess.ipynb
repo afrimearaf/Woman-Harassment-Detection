{
 "cells": [
  {
   "cell_type": "code",
   "execution_count": 1,
   "metadata": {
    "id": "lcPs3d6P-ReW"
   },
   "outputs": [],
   "source": [
    "import numpy as np\n",
    "import pandas as pd\n",
    "import matplotlib.pyplot as plt\n",
    "%matplotlib inline\n",
    "import seaborn as sns\n",
    "import re,nltk"
   ]
  },
  {
   "cell_type": "code",
   "execution_count": 2,
   "metadata": {
    "colab": {
     "base_uri": "https://localhost:8080/",
     "height": 206
    },
    "executionInfo": {
     "elapsed": 2288,
     "status": "ok",
     "timestamp": 1651425996455,
     "user": {
      "displayName": "kazi afrime",
      "userId": "17483685230346107889"
     },
     "user_tz": -360
    },
    "id": "NUlecwqd-dpW",
    "outputId": "9d787197-1e58-4400-9d9c-0ca1ba1c36d3"
   },
   "outputs": [
    {
     "data": {
      "text/html": [
       "<div>\n",
       "<style scoped>\n",
       "    .dataframe tbody tr th:only-of-type {\n",
       "        vertical-align: middle;\n",
       "    }\n",
       "\n",
       "    .dataframe tbody tr th {\n",
       "        vertical-align: top;\n",
       "    }\n",
       "\n",
       "    .dataframe thead th {\n",
       "        text-align: right;\n",
       "    }\n",
       "</style>\n",
       "<table border=\"1\" class=\"dataframe\">\n",
       "  <thead>\n",
       "    <tr style=\"text-align: right;\">\n",
       "      <th></th>\n",
       "      <th>Text</th>\n",
       "      <th>Label</th>\n",
       "    </tr>\n",
       "  </thead>\n",
       "  <tbody>\n",
       "    <tr>\n",
       "      <th>0</th>\n",
       "      <td>হেলো ম্যাডাম! আমাদের কনো ধরনের ভ্যাকসিনের প্রয়...</td>\n",
       "      <td>Negative</td>\n",
       "    </tr>\n",
       "    <tr>\n",
       "      <th>1</th>\n",
       "      <td>হো*গার ভিত্রে টাইগার বোম মলম লাগাইলে এমনে ভাবে...</td>\n",
       "      <td>Negative</td>\n",
       "    </tr>\n",
       "    <tr>\n",
       "      <th>2</th>\n",
       "      <td>হো**গায় অতিরিক্ত কারেন্ট থাকলে যা হয় আরকি</td>\n",
       "      <td>Negative</td>\n",
       "    </tr>\n",
       "    <tr>\n",
       "      <th>3</th>\n",
       "      <td>হেডার কারেন্ট কমে নাই</td>\n",
       "      <td>Negative</td>\n",
       "    </tr>\n",
       "    <tr>\n",
       "      <th>4</th>\n",
       "      <td>হেডার মহিলা</td>\n",
       "      <td>Negative</td>\n",
       "    </tr>\n",
       "  </tbody>\n",
       "</table>\n",
       "</div>"
      ],
      "text/plain": [
       "                                                Text     Label\n",
       "0  হেলো ম্যাডাম! আমাদের কনো ধরনের ভ্যাকসিনের প্রয়...  Negative\n",
       "1  হো*গার ভিত্রে টাইগার বোম মলম লাগাইলে এমনে ভাবে...  Negative\n",
       "2         হো**গায় অতিরিক্ত কারেন্ট থাকলে যা হয় আরকি   Negative\n",
       "3                              হেডার কারেন্ট কমে নাই  Negative\n",
       "4                                       হেডার মহিলা   Negative"
      ]
     },
     "execution_count": 2,
     "metadata": {},
     "output_type": "execute_result"
    }
   ],
   "source": [
    "data = pd.read_excel('Women_3.xlsx')\n",
    "data.head()"
   ]
  },
  {
   "cell_type": "code",
   "execution_count": 3,
   "metadata": {
    "colab": {
     "base_uri": "https://localhost:8080/",
     "height": 143
    },
    "executionInfo": {
     "elapsed": 17,
     "status": "ok",
     "timestamp": 1651425996456,
     "user": {
      "displayName": "kazi afrime",
      "userId": "17483685230346107889"
     },
     "user_tz": -360
    },
    "id": "1ZS9oSVZ-joZ",
    "outputId": "848d6ef0-ace1-4812-e1f7-b9a795d4cdfe"
   },
   "outputs": [
    {
     "data": {
      "text/html": [
       "<div>\n",
       "<style scoped>\n",
       "    .dataframe tbody tr th:only-of-type {\n",
       "        vertical-align: middle;\n",
       "    }\n",
       "\n",
       "    .dataframe tbody tr th {\n",
       "        vertical-align: top;\n",
       "    }\n",
       "\n",
       "    .dataframe thead th {\n",
       "        text-align: right;\n",
       "    }\n",
       "</style>\n",
       "<table border=\"1\" class=\"dataframe\">\n",
       "  <thead>\n",
       "    <tr style=\"text-align: right;\">\n",
       "      <th></th>\n",
       "      <th>Label</th>\n",
       "      <th>counts</th>\n",
       "    </tr>\n",
       "  </thead>\n",
       "  <tbody>\n",
       "    <tr>\n",
       "      <th>0</th>\n",
       "      <td>Negative</td>\n",
       "      <td>1960</td>\n",
       "    </tr>\n",
       "    <tr>\n",
       "      <th>1</th>\n",
       "      <td>Positive</td>\n",
       "      <td>1960</td>\n",
       "    </tr>\n",
       "  </tbody>\n",
       "</table>\n",
       "</div>"
      ],
      "text/plain": [
       "      Label  counts\n",
       "0  Negative    1960\n",
       "1  Positive    1960"
      ]
     },
     "execution_count": 3,
     "metadata": {},
     "output_type": "execute_result"
    }
   ],
   "source": [
    "data.groupby('Label').size().reset_index(name='counts')"
   ]
  },
  {
   "cell_type": "code",
   "execution_count": 4,
   "metadata": {
    "id": "m-v-lAANDprg"
   },
   "outputs": [],
   "source": [
    "def process_comments(Comment): \n",
    "    Comment = re.sub('[^\\u0980-\\u09FF]',' ',Comment)\n",
    "    Comment = re.sub('[?.`*^()!°¢܌Ͱ̰ߒנ~×Ҡߘ:ҰߑÍ|।;!,&%\\'@#$><A-Za-z0+-9=./''\"\"_০-৯]', '', Comment)\n",
    "    Comment = re.sub(r'(\\W)(?=\\1)', '', Comment)\n",
    "    Comment = re.sub(r'https?:\\/\\/.*[\\r\\n]*', '', Comment, flags=re.MULTILINE)\n",
    "    Comment = re.sub(r'\\<a href', ' ', Comment)\n",
    "    Comment = re.sub(r'&amp;', '', Comment) \n",
    "    Comment = re.sub(r'<br />', ' ', Comment)\n",
    "    Comment = re.sub(r'\\'', ' ', Comment)\n",
    "    return Comment"
   ]
  },
  {
   "cell_type": "code",
   "execution_count": 5,
   "metadata": {
    "colab": {
     "base_uri": "https://localhost:8080/",
     "height": 424
    },
    "executionInfo": {
     "elapsed": 15,
     "status": "ok",
     "timestamp": 1651425996457,
     "user": {
      "displayName": "kazi afrime",
      "userId": "17483685230346107889"
     },
     "user_tz": -360
    },
    "id": "MJpmpaXpDtmj",
    "outputId": "43befdb6-42c4-4fce-f81e-50f51f4fb8bc"
   },
   "outputs": [
    {
     "data": {
      "text/html": [
       "<div>\n",
       "<style scoped>\n",
       "    .dataframe tbody tr th:only-of-type {\n",
       "        vertical-align: middle;\n",
       "    }\n",
       "\n",
       "    .dataframe tbody tr th {\n",
       "        vertical-align: top;\n",
       "    }\n",
       "\n",
       "    .dataframe thead th {\n",
       "        text-align: right;\n",
       "    }\n",
       "</style>\n",
       "<table border=\"1\" class=\"dataframe\">\n",
       "  <thead>\n",
       "    <tr style=\"text-align: right;\">\n",
       "      <th></th>\n",
       "      <th>Text</th>\n",
       "      <th>Label</th>\n",
       "      <th>Cleaned</th>\n",
       "    </tr>\n",
       "  </thead>\n",
       "  <tbody>\n",
       "    <tr>\n",
       "      <th>0</th>\n",
       "      <td>হেলো ম্যাডাম! আমাদের কনো ধরনের ভ্যাকসিনের প্রয়...</td>\n",
       "      <td>Negative</td>\n",
       "      <td>হেলো ম্যাডাম আমাদের কনো ধরনের ভ্যাকসিনের প্রয়ো...</td>\n",
       "    </tr>\n",
       "    <tr>\n",
       "      <th>1</th>\n",
       "      <td>হো*গার ভিত্রে টাইগার বোম মলম লাগাইলে এমনে ভাবে...</td>\n",
       "      <td>Negative</td>\n",
       "      <td>হো গার ভিত্রে টাইগার বোম মলম লাগাইলে এমনে ভাবে...</td>\n",
       "    </tr>\n",
       "    <tr>\n",
       "      <th>2</th>\n",
       "      <td>হো**গায় অতিরিক্ত কারেন্ট থাকলে যা হয় আরকি</td>\n",
       "      <td>Negative</td>\n",
       "      <td>হো গায় অতিরিক্ত কারেন্ট থাকলে যা হয় আরকি</td>\n",
       "    </tr>\n",
       "    <tr>\n",
       "      <th>3</th>\n",
       "      <td>হেডার কারেন্ট কমে নাই</td>\n",
       "      <td>Negative</td>\n",
       "      <td>হেডার কারেন্ট কমে নাই</td>\n",
       "    </tr>\n",
       "    <tr>\n",
       "      <th>4</th>\n",
       "      <td>হেডার মহিলা</td>\n",
       "      <td>Negative</td>\n",
       "      <td>হেডার মহিলা</td>\n",
       "    </tr>\n",
       "    <tr>\n",
       "      <th>...</th>\n",
       "      <td>...</td>\n",
       "      <td>...</td>\n",
       "      <td>...</td>\n",
       "    </tr>\n",
       "    <tr>\n",
       "      <th>3915</th>\n",
       "      <td>অনেক সুন্দর মাশাল্লাহ.হাহা রিয়েক্ট আর নেগেটিভ...</td>\n",
       "      <td>Positive</td>\n",
       "      <td>অনেক সুন্দর মাশাল্লাহ হাহা রিয়েক্ট আর নেগেটিভ...</td>\n",
       "    </tr>\n",
       "    <tr>\n",
       "      <th>3916</th>\n",
       "      <td>অনেক অনেক  দোয়া রইল অফুরন্ত।</td>\n",
       "      <td>Positive</td>\n",
       "      <td>অনেক অনেক দোয়া রইল অফুরন্ত</td>\n",
       "    </tr>\n",
       "    <tr>\n",
       "      <th>3917</th>\n",
       "      <td>মোটামুটি ভালোই  হয়েছে ভিডিওটা ।</td>\n",
       "      <td>Positive</td>\n",
       "      <td>মোটামুটি ভালোই হয়েছে ভিডিওটা</td>\n",
       "    </tr>\n",
       "    <tr>\n",
       "      <th>3918</th>\n",
       "      <td>বাংলাদেশ থেকে  আপনার প্রতি অনেক অনেক ভালোবাসা</td>\n",
       "      <td>Positive</td>\n",
       "      <td>বাংলাদেশ থেকে আপনার প্রতি অনেক অনেক ভালোবাসা</td>\n",
       "    </tr>\n",
       "    <tr>\n",
       "      <th>3919</th>\n",
       "      <td>তোমার ভিডিও গুলি আমার মন ভালো করার জন্য যথেষ্ট</td>\n",
       "      <td>Positive</td>\n",
       "      <td>তোমার ভিডিও গুলি আমার মন ভালো করার জন্য যথেষ্ট</td>\n",
       "    </tr>\n",
       "  </tbody>\n",
       "</table>\n",
       "<p>3920 rows × 3 columns</p>\n",
       "</div>"
      ],
      "text/plain": [
       "                                                   Text     Label  \\\n",
       "0     হেলো ম্যাডাম! আমাদের কনো ধরনের ভ্যাকসিনের প্রয়...  Negative   \n",
       "1     হো*গার ভিত্রে টাইগার বোম মলম লাগাইলে এমনে ভাবে...  Negative   \n",
       "2            হো**গায় অতিরিক্ত কারেন্ট থাকলে যা হয় আরকি   Negative   \n",
       "3                                 হেডার কারেন্ট কমে নাই  Negative   \n",
       "4                                          হেডার মহিলা   Negative   \n",
       "...                                                 ...       ...   \n",
       "3915   অনেক সুন্দর মাশাল্লাহ.হাহা রিয়েক্ট আর নেগেটিভ...  Positive   \n",
       "3916                       অনেক অনেক  দোয়া রইল অফুরন্ত।  Positive   \n",
       "3917                  মোটামুটি ভালোই  হয়েছে ভিডিওটা ।   Positive   \n",
       "3918      বাংলাদেশ থেকে  আপনার প্রতি অনেক অনেক ভালোবাসা  Positive   \n",
       "3919    তোমার ভিডিও গুলি আমার মন ভালো করার জন্য যথেষ্ট  Positive   \n",
       "\n",
       "                                                Cleaned  \n",
       "0     হেলো ম্যাডাম আমাদের কনো ধরনের ভ্যাকসিনের প্রয়ো...  \n",
       "1     হো গার ভিত্রে টাইগার বোম মলম লাগাইলে এমনে ভাবে...  \n",
       "2             হো গায় অতিরিক্ত কারেন্ট থাকলে যা হয় আরকি   \n",
       "3                                 হেডার কারেন্ট কমে নাই  \n",
       "4                                          হেডার মহিলা   \n",
       "...                                                 ...  \n",
       "3915   অনেক সুন্দর মাশাল্লাহ হাহা রিয়েক্ট আর নেগেটিভ...  \n",
       "3916                        অনেক অনেক দোয়া রইল অফুরন্ত   \n",
       "3917                     মোটামুটি ভালোই হয়েছে ভিডিওটা   \n",
       "3918       বাংলাদেশ থেকে আপনার প্রতি অনেক অনেক ভালোবাসা  \n",
       "3919    তোমার ভিডিও গুলি আমার মন ভালো করার জন্য যথেষ্ট  \n",
       "\n",
       "[3920 rows x 3 columns]"
      ]
     },
     "execution_count": 5,
     "metadata": {},
     "output_type": "execute_result"
    }
   ],
   "source": [
    "data['Cleaned'] = data['Text'].apply(process_comments)  \n",
    "data"
   ]
  },
  {
   "cell_type": "code",
   "execution_count": 6,
   "metadata": {
    "colab": {
     "base_uri": "https://localhost:8080/"
    },
    "executionInfo": {
     "elapsed": 15,
     "status": "ok",
     "timestamp": 1651425996458,
     "user": {
      "displayName": "kazi afrime",
      "userId": "17483685230346107889"
     },
     "user_tz": -360
    },
    "id": "6h6-s9zrEGNP",
    "outputId": "b916dae7-5d70-4a9a-9713-46335466791b"
   },
   "outputs": [
    {
     "name": "stdout",
     "output_type": "stream",
     "text": [
      "<class 'pandas.core.frame.DataFrame'>\n",
      "RangeIndex: 3920 entries, 0 to 3919\n",
      "Data columns (total 3 columns):\n",
      " #   Column   Non-Null Count  Dtype \n",
      "---  ------   --------------  ----- \n",
      " 0   Text     3920 non-null   object\n",
      " 1   Label    3920 non-null   object\n",
      " 2   Cleaned  3920 non-null   object\n",
      "dtypes: object(3)\n",
      "memory usage: 92.0+ KB\n"
     ]
    }
   ],
   "source": [
    "data.info()"
   ]
  },
  {
   "cell_type": "code",
   "execution_count": 7,
   "metadata": {
    "id": "JAj_VGEbEfhk"
   },
   "outputs": [],
   "source": [
    "data.to_excel('clean_data.xlsx')"
   ]
  },
  {
   "cell_type": "code",
   "execution_count": null,
   "metadata": {},
   "outputs": [],
   "source": []
  }
 ],
 "metadata": {
  "colab": {
   "collapsed_sections": [],
   "name": "BA_text_pre.ipynb",
   "provenance": []
  },
  "kernelspec": {
   "display_name": "Python 3 (ipykernel)",
   "language": "python",
   "name": "python3"
  },
  "language_info": {
   "codemirror_mode": {
    "name": "ipython",
    "version": 3
   },
   "file_extension": ".py",
   "mimetype": "text/x-python",
   "name": "python",
   "nbconvert_exporter": "python",
   "pygments_lexer": "ipython3",
   "version": "3.10.9"
  }
 },
 "nbformat": 4,
 "nbformat_minor": 1
}
